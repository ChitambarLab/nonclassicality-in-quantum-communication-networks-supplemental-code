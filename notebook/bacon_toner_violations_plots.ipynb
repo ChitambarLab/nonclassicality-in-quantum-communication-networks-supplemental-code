{
 "cells": [
  {
   "cell_type": "code",
   "execution_count": 1,
   "id": "8db8f533",
   "metadata": {},
   "outputs": [],
   "source": [
    "from qnet_context import qnetvo as qnet\n",
    "from mac_context import multiple_access_channels as mac\n",
    "import matplotlib.pyplot as plt\n",
    "\n",
    "import numpy as np\n",
    "\n",
    "from os import listdir\n",
    "from os.path import isfile, join\n",
    "import re"
   ]
  },
  {
   "cell_type": "markdown",
   "id": "a4c453c7",
   "metadata": {},
   "source": [
    "# Loading Data\n"
   ]
  },
  {
   "cell_type": "code",
   "execution_count": 7,
   "id": "15607aa7",
   "metadata": {},
   "outputs": [],
   "source": [
    "def get_data_files(path, regex):\n",
    "    \"\"\"Retrieves all data files that match the ``regex`` in the\n",
    "    directory specified by ``path``.\n",
    "    \"\"\"\n",
    "    return [\n",
    "        join(path, f)\n",
    "        for f in listdir(path)\n",
    "        if (f.endswith(\".json\") and isfile(join(path, f)) and bool(re.match(regex, f)))\n",
    "    ]\n",
    "\n",
    "def get_inequality_opt_dicts(path, resource_regex):\n",
    "\n",
    "    opt_dicts = []\n",
    "    for i in range(2,4):\n",
    "\n",
    "        file_regex = resource_regex + \"_I_\" + str(i) + r\"_\\d\\d\\d\\d-\\d\\d-\\d\\dT\\d\\d-\\d\\d-\\d\\dZ\"    \n",
    "        files = get_data_files(path, file_regex)\n",
    "        opt_dicts += [[qnet.read_optimization_json(file) for file in files]]\n",
    "\n",
    "    return opt_dicts"
   ]
  },
  {
   "attachments": {},
   "cell_type": "markdown",
   "id": "502308c7",
   "metadata": {},
   "source": [
    "## Bacon and Toner Data Analysis"
   ]
  },
  {
   "cell_type": "code",
   "execution_count": 8,
   "id": "fef78c5e",
   "metadata": {},
   "outputs": [
    {
     "data": {
      "text/plain": [
       "4"
      ]
     },
     "execution_count": 8,
     "metadata": {},
     "output_type": "execute_result"
    }
   ],
   "source": [
    "data_path = \"../data/bacon_toner_violations/\"\n",
    "\n",
    "eacc_ab_opt_dicts = get_inequality_opt_dicts(data_path, r\"eacc_ab\")\n",
    "eaqc_ab_opt_dicts = get_inequality_opt_dicts(data_path, r\"eaqc_ab\")\n",
    "qc_ab_opt_dicts = get_inequality_opt_dicts(data_path, r\"qc_ab\")\n"
   ]
  },
  {
   "cell_type": "markdown",
   "id": "a4125576",
   "metadata": {},
   "source": [
    "## Analyzing Data"
   ]
  },
  {
   "cell_type": "code",
   "execution_count": 9,
   "id": "9a8661e7",
   "metadata": {},
   "outputs": [],
   "source": [
    "bt_nonclassicality_witnesses = [\n",
    "    # (2, np.array([[1,0,0,0],[0,0,1,0],[0,1,0,0],[0,0,0,1]])),\n",
    "    # (2, np.array([[1,0,0,0],[0,0,1,0],[1,0,0,1],[0,0,0,1]])),\n",
    "    (7, np.array([\n",
    "        [0, 0, 1, 0, 1, 1, 1, 1, 1],\n",
    "        [0, 1, 0, 1, 0, 0, 0, 0, 0],\n",
    "        [0, 1, 0, 1, 0, 0, 0, 0, 0],\n",
    "        [0, 0, 1, 0, 1, 1, 1, 1, 1],\n",
    "    ])),\n",
    "    (13, np.array([\n",
    "        [1, 2, 0, 2, 1, 2, 0, 2, 1],\n",
    "        [0, 0, 2, 0, 0, 0, 2, 0, 0],\n",
    "        [0, 0, 2, 0, 0, 0, 2, 0, 0],\n",
    "        [1, 2, 0, 2, 1, 2, 0, 2, 1],\n",
    "    ])),\n",
    "]\n",
    "\n",
    "\n",
    "def analyze_data(game_opt_dicts, inequalities):\n",
    "    max_violations = []\n",
    "    qbounds = []\n",
    "    cbounds = []\n",
    "    for i in range(len(inequalities)):\n",
    "        opt_dicts = game_opt_dicts[i]\n",
    "        inequality = inequalities[i]\n",
    "\n",
    "        cbound = inequality[0]\n",
    "        cbounds += [cbound]\n",
    "\n",
    "        qbound = 0.0\n",
    "        for x in range(inequality[1].shape[1]):\n",
    "            qbound += max(inequality[1][:,x])\n",
    "        qbounds += [qbound]\n",
    "\n",
    "        max_violations += [(max([max(opt_dict[\"scores\"]) for opt_dict in opt_dicts]) - cbound) / (qbound - cbound) ]\n",
    "        \n",
    "\n",
    "    return max_violations, qbounds, cbounds\n",
    "\n",
    "\n",
    "qc_ab_max_violations, qbounds, cbounds = analyze_data(qc_ab_opt_dicts, bt_nonclassicality_witnesses)\n",
    "eacc_ab_max_violations, qbounds, cbounds = analyze_data(eacc_ab_opt_dicts, bt_nonclassicality_witnesses)\n",
    "eaqc_ab_max_violations, qbounds, cbounds = analyze_data(eaqc_ab_opt_dicts, bt_nonclassicality_witnesses)\n",
    "\n"
   ]
  },
  {
   "cell_type": "code",
   "execution_count": 11,
   "id": "b532f797",
   "metadata": {},
   "outputs": [
    {
     "ename": "ValueError",
     "evalue": "shape mismatch: objects cannot be broadcast to a single shape.  Mismatch is between arg 0 with shape (2,) and arg 1 with shape (4,).",
     "output_type": "error",
     "traceback": [
      "\u001b[0;31m---------------------------------------------------------------------------\u001b[0m",
      "\u001b[0;31mValueError\u001b[0m                                Traceback (most recent call last)",
      "Cell \u001b[0;32mIn[11], line 12\u001b[0m\n\u001b[1;32m      6\u001b[0m ax1\u001b[39m.\u001b[39mgrid(linewidth\u001b[39m=\u001b[39m\u001b[39m1\u001b[39m, alpha\u001b[39m=\u001b[39m\u001b[39m0.5\u001b[39m)\n\u001b[1;32m      9\u001b[0m \u001b[39m# ax1.bar(x_axis-1*width, qbc_arb_max_violations, width=width, label=\"QC\", edgecolor=\"black\",linewidth=2)\u001b[39;00m\n\u001b[1;32m     10\u001b[0m \n\u001b[1;32m     11\u001b[0m \u001b[39m# ax1.bar(x_axis-0*width, eacc_bc_arb_max_violations, width=width, label=\"EACC\", edgecolor=\"black\",linewidth=2)\u001b[39;00m\n\u001b[0;32m---> 12\u001b[0m ax1\u001b[39m.\u001b[39;49mbar(x_axis\u001b[39m-\u001b[39;49m\u001b[39m1\u001b[39;49m\u001b[39m*\u001b[39;49mwidth, qc_ab_max_violations, width\u001b[39m=\u001b[39;49mwidth, label\u001b[39m=\u001b[39;49m\u001b[39m\"\u001b[39;49m\u001b[39mQC\u001b[39;49m\u001b[39m\"\u001b[39;49m, edgecolor\u001b[39m=\u001b[39;49m\u001b[39m\"\u001b[39;49m\u001b[39mblack\u001b[39;49m\u001b[39m\"\u001b[39;49m,linewidth\u001b[39m=\u001b[39;49m\u001b[39m2\u001b[39;49m)\n\u001b[1;32m     13\u001b[0m ax1\u001b[39m.\u001b[39mbar(x_axis\u001b[39m+\u001b[39m\u001b[39m0\u001b[39m\u001b[39m*\u001b[39mwidth, eacc_ab_max_violations, width\u001b[39m=\u001b[39mwidth, label\u001b[39m=\u001b[39m\u001b[39m\"\u001b[39m\u001b[39mEACC\u001b[39m\u001b[39m\"\u001b[39m, edgecolor\u001b[39m=\u001b[39m\u001b[39m\"\u001b[39m\u001b[39mblack\u001b[39m\u001b[39m\"\u001b[39m,linewidth\u001b[39m=\u001b[39m\u001b[39m2\u001b[39m)\n\u001b[1;32m     14\u001b[0m ax1\u001b[39m.\u001b[39mbar(x_axis\u001b[39m+\u001b[39m\u001b[39m1\u001b[39m\u001b[39m*\u001b[39mwidth, eaqc_ab_max_violations, width\u001b[39m=\u001b[39mwidth, label\u001b[39m=\u001b[39m\u001b[39m\"\u001b[39m\u001b[39mEAQC\u001b[39m\u001b[39m\"\u001b[39m, edgecolor\u001b[39m=\u001b[39m\u001b[39m\"\u001b[39m\u001b[39mblack\u001b[39m\u001b[39m\"\u001b[39m,linewidth\u001b[39m=\u001b[39m\u001b[39m2\u001b[39m)\n",
      "File \u001b[0;32m~/opt/anaconda3/envs/qnetvo-dev/lib/python3.8/site-packages/matplotlib/__init__.py:1423\u001b[0m, in \u001b[0;36m_preprocess_data.<locals>.inner\u001b[0;34m(ax, data, *args, **kwargs)\u001b[0m\n\u001b[1;32m   1420\u001b[0m \u001b[39m@functools\u001b[39m\u001b[39m.\u001b[39mwraps(func)\n\u001b[1;32m   1421\u001b[0m \u001b[39mdef\u001b[39;00m \u001b[39minner\u001b[39m(ax, \u001b[39m*\u001b[39margs, data\u001b[39m=\u001b[39m\u001b[39mNone\u001b[39;00m, \u001b[39m*\u001b[39m\u001b[39m*\u001b[39mkwargs):\n\u001b[1;32m   1422\u001b[0m     \u001b[39mif\u001b[39;00m data \u001b[39mis\u001b[39;00m \u001b[39mNone\u001b[39;00m:\n\u001b[0;32m-> 1423\u001b[0m         \u001b[39mreturn\u001b[39;00m func(ax, \u001b[39m*\u001b[39;49m\u001b[39mmap\u001b[39;49m(sanitize_sequence, args), \u001b[39m*\u001b[39;49m\u001b[39m*\u001b[39;49mkwargs)\n\u001b[1;32m   1425\u001b[0m     bound \u001b[39m=\u001b[39m new_sig\u001b[39m.\u001b[39mbind(ax, \u001b[39m*\u001b[39margs, \u001b[39m*\u001b[39m\u001b[39m*\u001b[39mkwargs)\n\u001b[1;32m   1426\u001b[0m     auto_label \u001b[39m=\u001b[39m (bound\u001b[39m.\u001b[39marguments\u001b[39m.\u001b[39mget(label_namer)\n\u001b[1;32m   1427\u001b[0m                   \u001b[39mor\u001b[39;00m bound\u001b[39m.\u001b[39mkwargs\u001b[39m.\u001b[39mget(label_namer))\n",
      "File \u001b[0;32m~/opt/anaconda3/envs/qnetvo-dev/lib/python3.8/site-packages/matplotlib/axes/_axes.py:2391\u001b[0m, in \u001b[0;36mAxes.bar\u001b[0;34m(self, x, height, width, bottom, align, **kwargs)\u001b[0m\n\u001b[1;32m   2388\u001b[0m     \u001b[39mif\u001b[39;00m yerr \u001b[39mis\u001b[39;00m \u001b[39mnot\u001b[39;00m \u001b[39mNone\u001b[39;00m:\n\u001b[1;32m   2389\u001b[0m         yerr \u001b[39m=\u001b[39m \u001b[39mself\u001b[39m\u001b[39m.\u001b[39m_convert_dx(yerr, y0, y, \u001b[39mself\u001b[39m\u001b[39m.\u001b[39mconvert_yunits)\n\u001b[0;32m-> 2391\u001b[0m x, height, width, y, linewidth, hatch \u001b[39m=\u001b[39m np\u001b[39m.\u001b[39;49mbroadcast_arrays(\n\u001b[1;32m   2392\u001b[0m     \u001b[39m# Make args iterable too.\u001b[39;49;00m\n\u001b[1;32m   2393\u001b[0m     np\u001b[39m.\u001b[39;49matleast_1d(x), height, width, y, linewidth, hatch)\n\u001b[1;32m   2395\u001b[0m \u001b[39m# Now that units have been converted, set the tick locations.\u001b[39;00m\n\u001b[1;32m   2396\u001b[0m \u001b[39mif\u001b[39;00m orientation \u001b[39m==\u001b[39m \u001b[39m'\u001b[39m\u001b[39mvertical\u001b[39m\u001b[39m'\u001b[39m:\n",
      "File \u001b[0;32m<__array_function__ internals>:180\u001b[0m, in \u001b[0;36mbroadcast_arrays\u001b[0;34m(*args, **kwargs)\u001b[0m\n",
      "File \u001b[0;32m~/opt/anaconda3/envs/qnetvo-dev/lib/python3.8/site-packages/numpy/lib/stride_tricks.py:540\u001b[0m, in \u001b[0;36mbroadcast_arrays\u001b[0;34m(subok, *args)\u001b[0m\n\u001b[1;32m    533\u001b[0m \u001b[39m# nditer is not used here to avoid the limit of 32 arrays.\u001b[39;00m\n\u001b[1;32m    534\u001b[0m \u001b[39m# Otherwise, something like the following one-liner would suffice:\u001b[39;00m\n\u001b[1;32m    535\u001b[0m \u001b[39m# return np.nditer(args, flags=['multi_index', 'zerosize_ok'],\u001b[39;00m\n\u001b[1;32m    536\u001b[0m \u001b[39m#                  order='C').itviews\u001b[39;00m\n\u001b[1;32m    538\u001b[0m args \u001b[39m=\u001b[39m [np\u001b[39m.\u001b[39marray(_m, copy\u001b[39m=\u001b[39m\u001b[39mFalse\u001b[39;00m, subok\u001b[39m=\u001b[39msubok) \u001b[39mfor\u001b[39;00m _m \u001b[39min\u001b[39;00m args]\n\u001b[0;32m--> 540\u001b[0m shape \u001b[39m=\u001b[39m _broadcast_shape(\u001b[39m*\u001b[39;49margs)\n\u001b[1;32m    542\u001b[0m \u001b[39mif\u001b[39;00m \u001b[39mall\u001b[39m(array\u001b[39m.\u001b[39mshape \u001b[39m==\u001b[39m shape \u001b[39mfor\u001b[39;00m array \u001b[39min\u001b[39;00m args):\n\u001b[1;32m    543\u001b[0m     \u001b[39m# Common case where nothing needs to be broadcasted.\u001b[39;00m\n\u001b[1;32m    544\u001b[0m     \u001b[39mreturn\u001b[39;00m args\n",
      "File \u001b[0;32m~/opt/anaconda3/envs/qnetvo-dev/lib/python3.8/site-packages/numpy/lib/stride_tricks.py:422\u001b[0m, in \u001b[0;36m_broadcast_shape\u001b[0;34m(*args)\u001b[0m\n\u001b[1;32m    417\u001b[0m \u001b[39m\"\"\"Returns the shape of the arrays that would result from broadcasting the\u001b[39;00m\n\u001b[1;32m    418\u001b[0m \u001b[39msupplied arrays against each other.\u001b[39;00m\n\u001b[1;32m    419\u001b[0m \u001b[39m\"\"\"\u001b[39;00m\n\u001b[1;32m    420\u001b[0m \u001b[39m# use the old-iterator because np.nditer does not handle size 0 arrays\u001b[39;00m\n\u001b[1;32m    421\u001b[0m \u001b[39m# consistently\u001b[39;00m\n\u001b[0;32m--> 422\u001b[0m b \u001b[39m=\u001b[39m np\u001b[39m.\u001b[39;49mbroadcast(\u001b[39m*\u001b[39;49margs[:\u001b[39m32\u001b[39;49m])\n\u001b[1;32m    423\u001b[0m \u001b[39m# unfortunately, it cannot handle 32 or more arguments directly\u001b[39;00m\n\u001b[1;32m    424\u001b[0m \u001b[39mfor\u001b[39;00m pos \u001b[39min\u001b[39;00m \u001b[39mrange\u001b[39m(\u001b[39m32\u001b[39m, \u001b[39mlen\u001b[39m(args), \u001b[39m31\u001b[39m):\n\u001b[1;32m    425\u001b[0m     \u001b[39m# ironically, np.broadcast does not properly handle np.broadcast\u001b[39;00m\n\u001b[1;32m    426\u001b[0m     \u001b[39m# objects (it treats them as scalars)\u001b[39;00m\n\u001b[1;32m    427\u001b[0m     \u001b[39m# use broadcasting to avoid allocating the full array\u001b[39;00m\n",
      "\u001b[0;31mValueError\u001b[0m: shape mismatch: objects cannot be broadcast to a single shape.  Mismatch is between arg 0 with shape (2,) and arg 1 with shape (4,)."
     ]
    },
    {
     "data": {
      "image/png": "[encoded data removed]",
      "text/plain": [
       "<Figure size 1500x800 with 1 Axes>"
      ]
     },
     "metadata": {},
     "output_type": "display_data"
    }
   ],
   "source": [
    "x_axis = np.arange(2)\n",
    "x_labels = [r\"$\\mathbf{G}_c^{\\rm{BCCV}_4}$\", r\"$\\mathbf{G}_d^{\\rm{BCCV}_4}$\"]\n",
    "width = 1/4\n",
    "\n",
    "fig, ax1 = plt.subplots(figsize=(15, 8), ncols=1,nrows=1)\n",
    "ax1.grid(linewidth=1, alpha=0.5)\n",
    "\n",
    "\n",
    "# ax1.bar(x_axis-1*width, qbc_arb_max_violations, width=width, label=\"QC\", edgecolor=\"black\",linewidth=2)\n",
    "\n",
    "# ax1.bar(x_axis-0*width, eacc_bc_arb_max_violations, width=width, label=\"EACC\", edgecolor=\"black\",linewidth=2)\n",
    "ax1.bar(x_axis-1*width, qc_ab_max_violations, width=width, label=\"QC\", edgecolor=\"black\",linewidth=2)\n",
    "ax1.bar(x_axis+0*width, eacc_ab_max_violations, width=width, label=\"EACC\", edgecolor=\"black\",linewidth=2)\n",
    "ax1.bar(x_axis+1*width, eaqc_ab_max_violations, width=width, label=\"EAQC\", edgecolor=\"black\",linewidth=2)\n",
    "\n",
    "\n",
    "\n",
    "\n",
    "plt.bar(x_axis+0*width, [1]*len(qbounds), width=1-width,  label=\"Violation Bound\", edgecolor=\"black\", linewidth=3, fill=False)\n",
    "\n",
    "plt.figlegend(loc=\"lower center\", ncols = 4, fontsize=24)\n",
    "\n",
    "\n",
    "ax1.set_xticks(x_axis, x_labels, fontsize=18)#, rotation=60)\n",
    "# ax1.set_yticks(fontsize=24)\n",
    "ax1.set_ylabel(\"Violation\", fontsize=18)\n",
    "\n",
    "# ax2.set_yticks(fontsize=24)\n",
    "\n",
    "# ax2.set_ylabel(\"Violation\", fontsize=24)\n",
    "\n",
    "fig.suptitle(\"Quantum Violations of Bell Scenarios Asssisted by Auxiliary Communication\" + \"\\n\", size=32, fontweight=\"bold\")\n",
    "\n",
    "\n",
    "ax1.set_ylim([0,1.1])\n",
    "# plt.legend(fontsize=20, ncol=3)\n",
    "plt.tight_layout()\n",
    "fig.subplots_adjust(bottom=0.25)\n",
    "\n",
    "plt.show()"
   ]
  },
  {
   "cell_type": "code",
   "execution_count": 104,
   "id": "b3af9f98",
   "metadata": {},
   "outputs": [
    {
     "data": {
      "text/plain": [
       "(18,\n",
       " tensor([[1., 1., 1., 1., 1., 0., 1., 0., 1., 1., 0., 0., 0., 1., 1., 0.,\n",
       "          1., 0., 0., 0., 1., 0., 0., 0.],\n",
       "         [0., 0., 0., 0., 0., 1., 0., 1., 0., 0., 1., 1., 1., 0., 0., 1.,\n",
       "          0., 1., 1., 1., 0., 1., 1., 1.]], requires_grad=True))"
      ]
     },
     "execution_count": 104,
     "metadata": {},
     "output_type": "execute_result"
    }
   ],
   "source": [
    "mac.rac_game(3)"
   ]
  },
  {
   "cell_type": "code",
   "execution_count": null,
   "id": "4c3614ab",
   "metadata": {},
   "outputs": [],
   "source": []
  }
 ],
 "metadata": {
  "@webio": {
   "lastCommId": null,
   "lastKernelId": null
  },
  "kernelspec": {
   "display_name": "Python 3 (ipykernel)",
   "language": "python",
   "name": "python3"
  },
  "language_info": {
   "codemirror_mode": {
    "name": "ipython",
    "version": 3
   },
   "file_extension": ".py",
   "mimetype": "text/x-python",
   "name": "python",
   "nbconvert_exporter": "python",
   "pygments_lexer": "ipython3",
   "version": "3.8.16"
  }
 },
 "nbformat": 4,
 "nbformat_minor": 5
}
