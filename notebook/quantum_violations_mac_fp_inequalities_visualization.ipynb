{
 "cells": [
  {
   "cell_type": "code",
   "execution_count": 18,
   "id": "7e2c64ef",
   "metadata": {},
   "outputs": [],
   "source": [
    "from qnet_context import qnetvo as qnet\n",
    "from mac_context import multiple_access_channels as mac\n",
    "import matplotlib.pyplot as plt\n",
    "\n",
    "import numpy as np\n",
    "\n",
    "from os import listdir\n",
    "from os.path import isfile, join\n",
    "import re"
   ]
  },
  {
   "cell_type": "markdown",
   "id": "f8bb3d51",
   "metadata": {},
   "source": [
    "# Loading Data\n"
   ]
  },
  {
   "cell_type": "code",
   "execution_count": 2,
   "id": "71984c66",
   "metadata": {},
   "outputs": [],
   "source": [
    "def get_data_files(path, regex):\n",
    "    \"\"\"Retrieves all data files that match the ``regex`` in the\n",
    "    directory specified by ``path``.\n",
    "    \"\"\"\n",
    "    return [\n",
    "        join(path, f)\n",
    "        for f in listdir(path)\n",
    "        if (f.endswith(\".json\") and isfile(join(path, f)) and bool(re.match(regex, f)))\n",
    "    ]"
   ]
  },
  {
   "cell_type": "code",
   "execution_count": 3,
   "id": "f9605dd7",
   "metadata": {},
   "outputs": [],
   "source": [
    "data_path = \"../data/bisender_mac_quantum_violations/\"\n",
    "qmac_regex = r\"qmac_\"\n",
    "ea_mac_regex = r\"ea_mac_\"\n",
    "and_tag = r\"and_\"\n",
    "xor_tag = r\"xor_\"\n",
    "\n",
    "qmac_xor_opt_dicts = []\n",
    "qmac_and_opt_dicts = []\n",
    "ea_mac_xor_opt_dicts =[]\n",
    "ea_mac_and_opt_dicts = []\n",
    "\n",
    "for i in range(20):\n",
    "    inequality_tag = \"I_fp_\" if i == 0 else \"I_\" + str(i) + \"_\"\n",
    "    \n",
    "    qmac_xor_regex = qmac_regex + inequality_tag + xor_tag + r\".*\"    \n",
    "    qmac_xor_files = get_data_files(data_path, qmac_xor_regex)\n",
    "    qmac_xor_opt_dicts += [[qnet.read_optimization_json(file) for file in qmac_xor_files]]\n",
    "    \n",
    "    qmac_and_regex = qmac_regex + inequality_tag + and_tag + r\".*\"    \n",
    "    qmac_and_files = get_data_files(data_path, qmac_and_regex)\n",
    "    qmac_and_opt_dicts += [[qnet.read_optimization_json(file) for file in qmac_and_files]]\n",
    "\n",
    "    \n",
    "    ea_mac_xor_regex = ea_mac_regex + inequality_tag + xor_tag + r\".*\"  \n",
    "    ea_mac_xor_files = get_data_files(data_path, ea_mac_xor_regex)\n",
    "    ea_mac_xor_opt_dicts += [[qnet.read_optimization_json(file) for file in ea_mac_xor_files]]\n",
    "\n",
    "    \n",
    "    ea_mac_and_regex = ea_mac_regex + inequality_tag + and_tag + r\".*\"  \n",
    "    ea_mac_and_files = get_data_files(data_path, ea_mac_and_regex)\n",
    "    ea_mac_and_opt_dicts += [[qnet.read_optimization_json(file) for file in ea_mac_and_files]]\n"
   ]
  },
  {
   "cell_type": "markdown",
   "id": "a53c4cf1",
   "metadata": {},
   "source": [
    "## Analyzing Data"
   ]
  },
  {
   "cell_type": "code",
   "execution_count": 11,
   "id": "af3fcb96",
   "metadata": {},
   "outputs": [],
   "source": [
    "qmac_xor_max_violations = []\n",
    "qmac_and_max_violations = []\n",
    "ea_mac_xor_max_violations = []\n",
    "ea_mac_and_max_violations = []\n",
    "\n",
    "classical_bounds = [7]\n",
    "classical_bounds += [inequality_tuple[0] for inequality_tuple in mac.bisender_mac_bounds()]\n",
    "\n",
    "# for i in range(20):\n",
    "for i in range(12):\n",
    "    qmac_xor_max_violations += [\n",
    "        max([opt_dict[\"opt_score\"] for opt_dict in qmac_xor_opt_dicts[i]]) - classical_bounds[i]\n",
    "    ]\n",
    "    qmac_and_max_violations += [\n",
    "        max([opt_dict[\"opt_score\"] for opt_dict in qmac_and_opt_dicts[i]]) - classical_bounds[i]\n",
    "    ]\n",
    "\n",
    "    ea_mac_xor_max_violations += [\n",
    "        max([opt_dict[\"opt_score\"] for opt_dict in ea_mac_xor_opt_dicts[i]]) - classical_bounds[i]\n",
    "    ]\n",
    "    ea_mac_and_max_violations += [\n",
    "        max([opt_dict[\"opt_score\"] for opt_dict in ea_mac_and_opt_dicts[i]]) - classical_bounds[i]\n",
    "    ]\n",
    "    "
   ]
  },
  {
   "cell_type": "code",
   "execution_count": 27,
   "id": "6117f387",
   "metadata": {},
   "outputs": [
    {
     "data": {
      "image/png": "[encoded data removed]",
      "text/plain": [
       "<Figure size 432x288 with 1 Axes>"
      ]
     },
     "metadata": {
      "needs_background": "light"
     },
     "output_type": "display_data"
    }
   ],
   "source": [
    "x_labels = [\n",
    "    r\"$I_{FP}$\", r\"$I_1$\", r\"$I_2$\",r\"$I_3$\", r\"$I_4$\", r\"$I_5$\", r\"$I_6$\", r\"$I_7$\", r\"$I_8$\", r\"$I_9$\", r\"$I_{10}$\",\n",
    "    r\"$I_{11}$\", r\"$I_{12}$\",r\"$I_{13}$\", r\"$I_{14}$\", r\"$I_{15}$\", r\"$I_{16}$\", r\"$I_{17}$\", r\"$I_{18}$\", r\"$I_{19}$\",\n",
    "]\n",
    "\n",
    "x_axis = np.arange(20)\n",
    "\n",
    "plt.bar(x_axis[0:12]-0.2, qmac_xor_max_violations[0:12], width=0.4, label=\"EA MAC\", edgecolor=\"black\")\n",
    "plt.bar(x_axis[0:12]+0.2, ea_mac_xor_max_violations[0:12], width=0.4, label=\"QMAC\", edgecolor=\"black\")\n",
    "\n",
    "plt.xticks(x_axis, x_labels)\n",
    "\n",
    "plt.show()"
   ]
  },
  {
   "cell_type": "code",
   "execution_count": 7,
   "id": "4debda22",
   "metadata": {},
   "outputs": [
    {
     "data": {
      "text/plain": [
       "[(4,\n",
       "  tensor([[0, 0, 0, 0, 1, 0, 1, 0, 0],\n",
       "          [1, 1, 0, 1, 0, 0, 0, 0, 0]], requires_grad=True)),\n",
       " (4,\n",
       "  tensor([[0, 0, 1, 0, 1, 0, 0, 0, 0],\n",
       "          [1, 1, 0, 1, 0, 0, 0, 0, 0]], requires_grad=True)),\n",
       " (5,\n",
       "  tensor([[0, 0, 0, 0, 0, 1, 1, 0, 0],\n",
       "          [1, 1, 0, 1, 0, 0, 0, 1, 0]], requires_grad=True)),\n",
       " (5,\n",
       "  tensor([[0, 0, 0, 0, 1, 0, 0, 0, 1],\n",
       "          [1, 1, 0, 1, 0, 1, 0, 0, 0]], requires_grad=True)),\n",
       " (7,\n",
       "  tensor([[0, 0, 1, 0, 1, 0, 1, 0, 0],\n",
       "          [2, 1, 0, 1, 0, 1, 0, 1, 0]], requires_grad=True)),\n",
       " (7,\n",
       "  tensor([[0, 0, 1, 0, 1, 0, 1, 0, 0],\n",
       "          [2, 2, 0, 1, 0, 0, 0, 1, 0]], requires_grad=True)),\n",
       " (7,\n",
       "  tensor([[0, 0, 1, 0, 1, 0, 1, 0, 0],\n",
       "          [2, 1, 0, 2, 0, 1, 0, 0, 0]], requires_grad=True)),\n",
       " (6,\n",
       "  tensor([[0, 0, 0, 0, 1, 1, 1, 0, 1],\n",
       "          [1, 1, 0, 1, 0, 0, 0, 1, 0]], requires_grad=True)),\n",
       " (8,\n",
       "  tensor([[0, 0, 0, 0, 1, 1, 2, 0, 0],\n",
       "          [2, 2, 0, 1, 0, 0, 0, 1, 0]], requires_grad=True)),\n",
       " (8,\n",
       "  tensor([[0, 0, 0, 0, 2, 0, 1, 0, 1],\n",
       "          [2, 2, 0, 1, 0, 1, 0, 0, 0]], requires_grad=True)),\n",
       " (8,\n",
       "  tensor([[0, 0, 1, 0, 2, 0, 0, 0, 1],\n",
       "          [2, 1, 0, 2, 0, 1, 0, 0, 0]], requires_grad=True)),\n",
       " (8,\n",
       "  tensor([[0, 0, 1, 0, 2, 0, 0, 0, 1],\n",
       "          [2, 1, 0, 2, 0, 0, 0, 1, 0]], requires_grad=True)),\n",
       " (8,\n",
       "  tensor([[0, 0, 1, 0, 1, 0, 2, 0, 0],\n",
       "          [2, 1, 0, 0, 0, 1, 0, 2, 0]], requires_grad=True)),\n",
       " (10,\n",
       "  tensor([[0, 0, 1, 0, 2, 0, 1, 0, 1],\n",
       "          [3, 2, 0, 2, 0, 1, 0, 0, 0]], requires_grad=True)),\n",
       " (10,\n",
       "  tensor([[0, 0, 1, 0, 2, 0, 1, 0, 1],\n",
       "          [3, 2, 0, 2, 0, 0, 0, 1, 0]], requires_grad=True)),\n",
       " (11,\n",
       "  tensor([[0, 0, 2, 0, 1, 0, 2, 0, 0],\n",
       "          [3, 1, 0, 1, 0, 2, 0, 2, 0]], requires_grad=True)),\n",
       " (14,\n",
       "  tensor([[0, 0, 2, 0, 2, 0, 2, 0, 0],\n",
       "          [3, 1, 0, 1, 0, 3, 0, 3, 1]], requires_grad=True)),\n",
       " (16,\n",
       "  tensor([[0, 0, 2, 0, 3, 0, 2, 0, 1],\n",
       "          [5, 3, 0, 3, 0, 1, 0, 1, 0]], requires_grad=True)),\n",
       " (17,\n",
       "  tensor([[0, 0, 2, 1, 2, 0, 5, 0, 1],\n",
       "          [4, 2, 0, 0, 0, 1, 0, 4, 0]], requires_grad=True))]"
      ]
     },
     "execution_count": 7,
     "metadata": {},
     "output_type": "execute_result"
    }
   ],
   "source": [
    "mac.bisender_mac_bounds()"
   ]
  },
  {
   "cell_type": "code",
   "execution_count": null,
   "id": "ca4ce98e",
   "metadata": {},
   "outputs": [],
   "source": []
  }
 ],
 "metadata": {
  "@webio": {
   "lastCommId": null,
   "lastKernelId": null
  },
  "kernelspec": {
   "display_name": "Python 3 (ipykernel)",
   "language": "python",
   "name": "python3"
  },
  "language_info": {
   "codemirror_mode": {
    "name": "ipython",
    "version": 3
   },
   "file_extension": ".py",
   "mimetype": "text/x-python",
   "name": "python",
   "nbconvert_exporter": "python",
   "pygments_lexer": "ipython3",
   "version": "3.8.12"
  }
 },
 "nbformat": 4,
 "nbformat_minor": 5
}
