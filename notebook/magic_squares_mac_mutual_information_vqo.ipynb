{
 "cells": [
  {
   "cell_type": "markdown",
   "metadata": {},
   "source": [
    "# VQO of the Mutual Information of the Magic Squares MAC\n",
    "\n",
    "The magic squares nonlocal game can be embedded into a multiple access channel (MAC) (see https://arxiv.org/pdf/1909.02479.pdf).\n",
    "In this setting, the MAC is classical and serves as a white-box verifier for the nonlocal game.\n",
    "If the nonlocal game is won by Alice and Bob, the MAC verifier outputs the inputs $x_1$ and $x_2$ otherwise, the MAC verifier outputs $\\hat{x}_1$ and $\\hat{x}_2$ drawn from the uniform distribution (i.e. noise).\n"
   ]
  },
  {
   "cell_type": "code",
   "execution_count": null,
   "metadata": {},
   "outputs": [],
   "source": [
    "import pennylane as qml\n",
    "from pennylane import numpy as np\n",
    "import matplotlib.pyplot as plt"
   ]
  },
  {
   "cell_type": "markdown",
   "metadata": {},
   "source": [
    "## Mutual Information as a Cost Function\n",
    "\n",
    "For the magic square game, the MAC mutual information is expressed as $I(\\hat{x}_1,\\hat{x}_2;x_1,x_2,y_1,y_2) = H(P(\\hat{x}_1,\\hat{x}_2)) - P_{Lose}\\log_2(9)$ where $H(P(\\hat{x}_1, \\hat{x}_2))$ is the shannon entropy of the joint distribution.\n",
    "To cast the mutual information as a cost function we simply take the negative of it, $-I(\\hat{x}_1,\\hat{x}_2;x_1,x_2,y_1,y_2)$.\n",
    "\n",
    "In our cost function, we compute $H(P(\\hat{x}_1, \\hat{x}_2))$ where $P(\\hat{x}_1, \\hat{x}_2) = \\frac{1}{9}\\left(P(win|x_1,x_2) + P_{Lose}\\right)$. This holds true as long as we have a uniform distribution over inputs."
   ]
  },
  {
   "cell_type": "code",
   "execution_count": 2,
   "metadata": {},
   "outputs": [],
   "source": [
    "def shannon_entropy(probs):\n",
    "    return sum([-p*np.log2(p) for p in np.where(probs == 0, 1, probs)])\n",
    "    \n",
    "# This is a factory function to create a cost function based upon the\n",
    "# quantum circuit expressed in probs_qnode\n",
    "def magic_squares_mutual_information_cost(probs_qnode):\n",
    "    \n",
    "    def cost(settings, **kwargs):\n",
    "        state_settings, A_settings, B_settings = settings\n",
    "        \n",
    "        p_win = 0\n",
    "        z_probs_list = []\n",
    "        for x1 in [0,1,2]:\n",
    "            for x2 in [0,1,2]:\n",
    "                probs = probs_qnode(state_settings, A_settings[x1], B_settings[x2])\n",
    "    \n",
    "                p_x1x2_win = 0\n",
    "\n",
    "                for i in range(16):\n",
    "                    bit_string = [int(j) for j in np.binary_repr(i,4)]\n",
    "\n",
    "                    A_parity_bit = 0 if (bit_string[0] + bit_string[1]) % 2 == 0 else 1\n",
    "                    B_parity_bit = 1 if (bit_string[2] + bit_string[3]) % 2 == 0 else 0\n",
    "\n",
    "                    A_bits = bit_string[0:2] + [A_parity_bit]\n",
    "                    B_bits = bit_string[2:] + [B_parity_bit]\n",
    "\n",
    "                    if A_bits[x2] == B_bits[x1]:\n",
    "                        p_x1x2_win += probs[i]\n",
    "                             \n",
    "                p_win += p_x1x2_win/9\n",
    "                z_probs_list.append(p_x1x2_win/9)\n",
    "        \n",
    "        z_probs = np.ones(9)*(1-p_win)/9 + np.array(z_probs_list)\n",
    "        assert np.isclose(sum(z_probs), 1)\n",
    "                            \n",
    "        mutual_information = shannon_entropy(z_probs) - (1-p_win)*(np.log2(9))    \n",
    "        \n",
    "        return -(mutual_information)\n",
    "    \n",
    "    return cost\n",
    "\n",
    "# creates randomized initial settings for magic squares qnodes\n",
    "def rand_magic_squares_settings(num_state_settings, num_A_settings, num_B_settings):\n",
    "    state_settings = 2 * np.pi * np.random.random(num_state_settings)\n",
    "    A_settings = [\n",
    "        2 * np.pi * np.random.random(num_A_settings) - np.pi for i in range(3)\n",
    "    ]\n",
    "    B_settings = [\n",
    "        2 * np.pi * np.random.random(num_B_settings) - np.pi for i in range(3)\n",
    "    ]\n",
    "    \n",
    "    return state_settings, A_settings, B_settings"
   ]
  },
  {
   "cell_type": "markdown",
   "metadata": {},
   "source": [
    "In the following cell, we create a quantum circuit ansatz for the magic square game. The initialized entangled state is set as the \"ideal\" quantum state."
   ]
  },
  {
   "cell_type": "code",
   "execution_count": 3,
   "metadata": {},
   "outputs": [],
   "source": [
    "def ideal_init_state():\n",
    "    for i in range(4):\n",
    "        qml.PauliX(wires=[i])\n",
    "\n",
    "    for i in range(2):\n",
    "        qml.Hadamard(wires=[i])\n",
    "        qml.CNOT(wires=[i,i+2])\n",
    "\n",
    "dev = qml.device(\"default.qubit\", wires=range(4))\n",
    "@qml.qnode(dev)\n",
    "def measurement_qnode(state_settings, settingsA, settingsB):\n",
    "    ideal_init_state()\n",
    "    \n",
    "    qml.templates.subroutines.ArbitraryUnitary(settingsA, wires=dev.wires[0:2])\n",
    "    qml.templates.subroutines.ArbitraryUnitary(settingsB, wires=dev.wires[2:])\n",
    "    \n",
    "    return qml.probs(wires=dev.wires)"
   ]
  },
  {
   "cell_type": "markdown",
   "metadata": {},
   "source": [
    "Performing gradient descent to minimize $-I(\\hat{x}_1,\\hat{x}_2;x_1,x_2,y_1,y_2)$."
   ]
  },
  {
   "cell_type": "code",
   "execution_count": 4,
   "metadata": {},
   "outputs": [
    {
     "name": "stdout",
     "output_type": "stream",
     "text": [
      "iteration :  0 , score :  1.5370320096297105\n",
      "iteration :  10 , score :  2.544794870519551\n",
      "iteration :  20 , score :  2.928870553918306\n",
      "iteration :  30 , score :  3.0943835054553768\n",
      "iteration :  40 , score :  3.140873437571082\n",
      "iteration :  50 , score :  3.1559531492942896\n",
      "iteration :  60 , score :  3.1619767598006807\n",
      "iteration :  70 , score :  3.1649394522717085\n",
      "iteration :  80 , score :  3.166616312529547\n",
      "iteration :  90 , score :  3.1676490201395398\n",
      "iteration :  100 , score :  3.168319839708334\n",
      "iteration :  110 , score :  3.1687718288450206\n",
      "iteration :  120 , score :  3.1690846542438234\n",
      "iteration :  130 , score :  3.1693056531605155\n",
      "iteration :  140 , score :  3.169464322170091\n",
      "final score :  3.169579727615636\n",
      "CPU times: user 46.8 s, sys: 393 ms, total: 47.1 s\n",
      "Wall time: 47.4 s\n"
     ]
    }
   ],
   "source": [
    "%%time\n",
    "\n",
    "opt = qml.GradientDescentOptimizer(stepsize=0.6)\n",
    "num_steps = 150\n",
    "sample_width = 10\n",
    "\n",
    "measurement_cost = magic_squares_mutual_information_cost(measurement_qnode)\n",
    "\n",
    "init_settings = rand_magic_squares_settings(0,15,15)\n",
    "scores = []\n",
    "samples = []\n",
    "settings_history = []\n",
    "\n",
    "# performing gradient descent\n",
    "for i in range(num_steps):\n",
    "    if i % sample_width == 0:\n",
    "        score = -(measurement_cost(init_settings))\n",
    "        scores.append(score)\n",
    "        samples.append(i)\n",
    "\n",
    "        print(\"iteration : \", i, \", score : \", score)\n",
    "\n",
    "    # updating settings\n",
    "    init_settings = opt.step(measurement_cost, init_settings)\n",
    "    settings_history.append(init_settings)\n",
    "\n",
    "opt_score = -(measurement_cost(init_settings))\n",
    "\n",
    "scores.append(opt_score)\n",
    "samples.append(num_steps - 1)\n",
    "\n",
    "print(\"final score : \", opt_score)"
   ]
  },
  {
   "cell_type": "code",
   "execution_count": 5,
   "metadata": {},
   "outputs": [
    {
     "data": {
      "image/png": "[encoded data removed]",
      "text/plain": [
       "<Figure size 432x288 with 1 Axes>"
      ]
     },
     "metadata": {
      "needs_background": "light"
     },
     "output_type": "display_data"
    }
   ],
   "source": [
    "plt.plot(range(16), scores , label = \"Magic Squares MAC Optimization\")\n",
    "plt.plot(range(16), [np.log2(9)]*len(scores), label = \"Quantum Bound\")\n",
    "plt.title(\"Magic Squares MAC Optimization of Mutual Information\")\n",
    "plt.xlabel(\"Iteration (x10)\")\n",
    "plt.ylabel(\"Mutual Information\")\n",
    "plt.legend()\n",
    "plt.show()"
   ]
  },
  {
   "cell_type": "markdown",
   "metadata": {},
   "source": [
    "## Local Quantum States do not Achieve Optimal Mutual Information \n"
   ]
  },
  {
   "cell_type": "code",
   "execution_count": 6,
   "metadata": {},
   "outputs": [],
   "source": [
    "dev2 = qml.device(\"default.qubit\", wires=range(4))\n",
    "@qml.qnode(dev2)\n",
    "def local_measurement_qnode(state_settings, settingsA, settingsB): \n",
    "    # encode local measurments \n",
    "    qml.templates.subroutines.ArbitraryUnitary(settingsA, wires=dev2.wires[0:2])\n",
    "    qml.templates.subroutines.ArbitraryUnitary(settingsB, wires=dev2.wires[2:])\n",
    "    \n",
    "    return qml.probs(wires=dev2.wires)"
   ]
  },
  {
   "cell_type": "code",
   "execution_count": 7,
   "metadata": {},
   "outputs": [
    {
     "name": "stdout",
     "output_type": "stream",
     "text": [
      "iteration :  0 , score :  1.7647924811787938\n",
      "iteration :  10 , score :  2.565842239262902\n",
      "iteration :  20 , score :  2.7738456005169048\n",
      "iteration :  30 , score :  2.789137037465492\n",
      "iteration :  40 , score :  2.794150210267\n",
      "iteration :  50 , score :  2.7964223021402046\n",
      "iteration :  60 , score :  2.797497966475083\n",
      "iteration :  70 , score :  2.79803969971349\n",
      "iteration :  80 , score :  2.798340610258796\n",
      "iteration :  90 , score :  2.7985261529777326\n",
      "iteration :  100 , score :  2.79865085043938\n",
      "iteration :  110 , score :  2.798740013754271\n",
      "iteration :  120 , score :  2.798806570861369\n",
      "iteration :  130 , score :  2.798857808195635\n",
      "iteration :  140 , score :  2.798898186231431\n",
      "final score :  2.7989306084798953\n",
      "CPU times: user 47.2 s, sys: 486 ms, total: 47.7 s\n",
      "Wall time: 49 s\n"
     ]
    }
   ],
   "source": [
    "%%time\n",
    "\n",
    "opt = qml.GradientDescentOptimizer(stepsize=0.6)\n",
    "num_steps = 150\n",
    "sample_width = 10\n",
    "\n",
    "local_measurement_cost = magic_squares_mutual_information_cost(local_measurement_qnode)\n",
    "\n",
    "local_init_settings = rand_magic_squares_settings(0,15,15)\n",
    "scores = []\n",
    "samples = []\n",
    "settings_history = []\n",
    "\n",
    "# performing gradient descent\n",
    "for i in range(num_steps):\n",
    "    if i % sample_width == 0:\n",
    "        score = -(local_measurement_cost(local_init_settings))\n",
    "        scores.append(score)\n",
    "        samples.append(i)\n",
    "\n",
    "        print(\"iteration : \", i, \", score : \", score)\n",
    "\n",
    "    # updating settings\n",
    "    local_init_settings = opt.step(local_measurement_cost, local_init_settings)\n",
    "    settings_history.append(local_init_settings)\n",
    "\n",
    "local_opt_score = -(local_measurement_cost(local_init_settings))\n",
    "local_opt_settings = local_init_settings\n",
    "\n",
    "scores.append(local_opt_score)\n",
    "samples.append(num_steps - 1)\n",
    "\n",
    "print(\"final score : \", local_opt_score)"
   ]
  },
  {
   "cell_type": "code",
   "execution_count": 8,
   "metadata": {},
   "outputs": [
    {
     "data": {
      "image/png": "[encoded data removed]",
      "text/plain": [
       "<Figure size 432x288 with 1 Axes>"
      ]
     },
     "metadata": {
      "needs_background": "light"
     },
     "output_type": "display_data"
    }
   ],
   "source": [
    "plt.plot(range(16), scores , label = \"Magic Squares MAC Optimization\")\n",
    "plt.plot(range(16), [np.log2(9)]*len(scores), label = \"Quantum Bound\")\n",
    "plt.title(\"Magic Squares MAC Optimization of\\nMutual Information (no entanglement)\")\n",
    "plt.xlabel(\"Iteration (x10)\")\n",
    "plt.ylabel(\"Mutual Information\")\n",
    "plt.legend()\n",
    "plt.show()"
   ]
  },
  {
   "cell_type": "markdown",
   "metadata": {},
   "source": [
    "### scratch work\n",
    "\n",
    "Verifying that the local quantum strategy is not a perfect winning strategy."
   ]
  },
  {
   "cell_type": "code",
   "execution_count": 9,
   "metadata": {},
   "outputs": [],
   "source": [
    "dev3 = qml.device(\"default.qubit\", wires=range(4), shots=10)\n",
    "@qml.qnode(dev3)\n",
    "def local_measurement_samples_qnode(state_settings, settingsA, settingsB): \n",
    "    # encode local measurments \n",
    "    qml.templates.subroutines.ArbitraryUnitary(settingsA, wires=dev3.wires[0:2])\n",
    "    qml.templates.subroutines.ArbitraryUnitary(settingsB, wires=dev3.wires[2:])\n",
    "    \n",
    "    return [\n",
    "        qml.sample(qml.PauliZ(dev3.wires[0])),\n",
    "        qml.sample(qml.PauliZ(dev3.wires[1])),\n",
    "        qml.sample(qml.PauliZ(dev3.wires[2])),\n",
    "        qml.sample(qml.PauliZ(dev3.wires[3]))\n",
    "    ]\n",
    " "
   ]
  },
  {
   "cell_type": "code",
   "execution_count": 10,
   "metadata": {},
   "outputs": [
    {
     "name": "stdout",
     "output_type": "stream",
     "text": [
      "case : x =  0 , y =  0\n",
      "Alice's answers :\n",
      "[1 1 1 1 1 1 1 1 1 1]\n",
      "Bob's answers :\n",
      "[1 1 1 1 1 1 1 1 1 1]\n",
      "case : x =  0 , y =  1\n",
      "Alice's answers :\n",
      "[1 1 1 1 1 1 1 1 1 1]\n",
      "Bob's answers :\n",
      "[1 1 1 1 1 1 1 1 1 1]\n",
      "case : x =  0 , y =  2\n",
      "Alice's answers :\n",
      "[1, 1, 1, 1, 1, 1, 1, 1, 1, 1]\n",
      "Bob's answers :\n",
      "[1 1 1 1 1 1 1 1 1 1]\n",
      "case : x =  1 , y =  0\n",
      "Alice's answers :\n",
      "[1 1 1 1 1 1 1 1 1 1]\n",
      "Bob's answers :\n",
      "[-1 -1 -1 -1 -1 -1 -1 -1 -1 -1]\n",
      "case : x =  1 , y =  1\n",
      "Alice's answers :\n",
      "[-1 -1 -1 -1 -1 -1 -1 -1 -1 -1]\n",
      "Bob's answers :\n",
      "[-1 -1 -1 -1 -1 -1 -1 -1 -1 -1]\n",
      "case : x =  1 , y =  2\n",
      "Alice's answers :\n",
      "[-1, -1, -1, -1, -1, -1, -1, -1, -1, -1]\n",
      "Bob's answers :\n",
      "[-1 -1 -1 -1 -1 -1 -1 -1 -1 -1]\n",
      "case : x =  2 , y =  0\n",
      "Alice's answers :\n",
      "[-1  1 -1 -1  1 -1 -1 -1 -1 -1]\n",
      "Bob's answers :\n",
      "[-1, -1, -1, -1, -1, -1, -1, -1, -1, -1]\n",
      "case : x =  2 , y =  1\n",
      "Alice's answers :\n",
      "[ 1  1  1  1  1 -1 -1 -1  1  1]\n",
      "Bob's answers :\n",
      "[1, 1, 1, 1, 1, 1, 1, 1, 1, 1]\n",
      "case : x =  2 , y =  2\n",
      "Alice's answers :\n",
      "[-1, 1, -1, -1, 1, 1, -1, 1, 1, -1]\n",
      "Bob's answers :\n",
      "[1, 1, 1, 1, 1, 1, 1, 1, 1, 1]\n"
     ]
    }
   ],
   "source": [
    "for x in [0,1,2]:\n",
    "    for y in [0,1,2]:\n",
    "        print(\"case : x = \", x, \", y = \", y)\n",
    "        \n",
    "        samplesxy = local_measurement_samples_qnode(\n",
    "            local_opt_settings[0],\n",
    "            local_opt_settings[1][x],\n",
    "            local_opt_settings[2][y]\n",
    "        )\n",
    "        \n",
    "        print(\"Alice's answers :\")\n",
    "        if y == 2:\n",
    "            print([ 1 if samplesxy[0,i] == samplesxy[1,i] else -1 for i in range(10) ])\n",
    "        else:\n",
    "            print(samplesxy[y])\n",
    "            \n",
    "        print(\"Bob's answers :\")\n",
    "        if x == 2:\n",
    "            print([ -1 if samplesxy[2,i] == samplesxy[3,i] else 1 for i in range(10) ])\n",
    "        else:\n",
    "            print(samplesxy[x])\n"
   ]
  }
 ],
 "metadata": {
  "@webio": {
   "lastCommId": null,
   "lastKernelId": null
  },
  "kernelspec": {
   "display_name": "Python 3 (ipykernel)",
   "language": "python",
   "name": "python3"
  },
  "language_info": {
   "codemirror_mode": {
    "name": "ipython",
    "version": 3
   },
   "file_extension": ".py",
   "mimetype": "text/x-python",
   "name": "python",
   "nbconvert_exporter": "python",
   "pygments_lexer": "ipython3",
   "version": "3.8.11"
  }
 },
 "nbformat": 4,
 "nbformat_minor": 2
}
