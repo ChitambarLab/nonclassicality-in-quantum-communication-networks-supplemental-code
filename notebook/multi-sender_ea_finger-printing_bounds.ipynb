{
 "cells": [
  {
   "cell_type": "markdown",
   "id": "3a6cee63",
   "metadata": {},
   "source": [
    "# Entanglement Assisted Multi-Sender MAC for one-shot Finger Printing\n",
    "\n",
    "A Bell state is sufficient for an entanglement-assisted advantage in the one-shot finer printing task.\n",
    "Does this advantage scale to more inputs or senders?\n",
    "\n",
    "This notebook investigates the one-shot finger printing bounds where a GHZ state is shared amongst $m$ senders each with $n$ inputs. Each sender transmits a single bit to the receiving classical MAC.\n",
    "\n",
    "*This notebook does not performa a comprehensive search.*"
   ]
  },
  {
   "cell_type": "code",
   "execution_count": 1,
   "id": "7fd235f8",
   "metadata": {},
   "outputs": [],
   "source": [
    "from qnet_context import QNetOptimizer as QNopt\n",
    "from mac_context import *\n",
    "import pennylane as qml\n",
    "import pennylane.numpy as np\n",
    "import matplotlib.pyplot as plt"
   ]
  },
  {
   "cell_type": "markdown",
   "id": "7bfd68c7",
   "metadata": {},
   "source": [
    "## Ansatz"
   ]
  },
  {
   "cell_type": "code",
   "execution_count": 2,
   "id": "d1bed94a",
   "metadata": {},
   "outputs": [],
   "source": [
    "def ea_ghz_state_prep(num_wires):\n",
    "    return [\n",
    "        QNopt.PrepareNode(1, range(num_wires), QNopt.ghz_state, 0)\n",
    "    ]\n",
    "\n",
    "def ea_local_Rot_meas(num_senders, num_in):\n",
    "    return [\n",
    "        QNopt.MeasureNode(num_in, 2, [i], lambda settings, wires: qml.Rot(*settings, wires=wires), 3)\n",
    "        for i in range(num_senders)\n",
    "    ]"
   ]
  },
  {
   "cell_type": "code",
   "execution_count": 3,
   "id": "3a484de0",
   "metadata": {},
   "outputs": [],
   "source": [
    "def finger_printing_matrix(num_senders, num_in):\n",
    "    \"\"\"Constructs the matrix containing the winning answers\n",
    "    for the finger printing game.\n",
    "    \"\"\"\n",
    "    ineq_tensor = np.zeros([num_in]*num_senders)\n",
    "    match_ids = np.diag_indices(num_in, num_senders)\n",
    "    \n",
    "    ineq_tensor[match_ids] = [1] * num_in\n",
    "    \n",
    "    success_row = ineq_tensor.reshape(num_in**num_senders)\n",
    "    error_row = [ (el + 1) % 2 for el in success_row]\n",
    "        \n",
    "    return np.array([success_row, error_row])\n",
    "\n",
    "def parity_postmap(num_bits):\n",
    "    parity_vector = QNopt.parity_vector(num_bits)\n",
    "    \n",
    "    postmap = np.zeros((2, 2**num_bits))\n",
    "    for i in range(2**num_bits):\n",
    "        if parity_vector[i] > 0:\n",
    "            postmap[0,i] = 1\n",
    "        else:\n",
    "            postmap[1,i] = 1\n",
    "\n",
    "    return postmap"
   ]
  },
  {
   "cell_type": "code",
   "execution_count": 4,
   "id": "19541fd7",
   "metadata": {},
   "outputs": [],
   "source": [
    "def ghz_assisted_finger_printing(num_senders, num_in, **opt_kwargs):\n",
    "\n",
    "    ansatz = QNopt.NetworkAnsatz(\n",
    "        ea_ghz_state_prep(num_senders),\n",
    "        ea_local_Rot_meas(num_senders, num_in)\n",
    "    )\n",
    "\n",
    "    fp_mat = finger_printing_matrix(num_senders, num_in)\n",
    "    postmap = finger_printing_matrix(num_senders, 2)\n",
    "#     postmap = parity_postmap(num_senders)\n",
    "\n",
    "    cost = QNopt.linear_probs_cost_fn(ansatz, fp_mat, post_map=postmap)\n",
    "\n",
    "    print(\"classical bound : \", 1 + np.sum(fp_mat[1,:]))\n",
    "\n",
    "    opt_dict = QNopt.gradient_descent(\n",
    "        cost,\n",
    "        ansatz.rand_scenario_settings(),\n",
    "        **opt_kwargs\n",
    "    )\n",
    "\n",
    "    print(\"max score : \", opt_dict[\"opt_score\"])\n",
    "\n",
    "    behavior = QNopt.behavior_fn(ansatz, post_map=postmap)\n",
    "    print(\"optimal behavior : \", np.around(behavior(opt_dict[\"opt_settings\"]), decimals=3))"
   ]
  },
  {
   "cell_type": "markdown",
   "id": "b63766d3",
   "metadata": {},
   "source": [
    "## Two Senders 3 Input"
   ]
  },
  {
   "cell_type": "code",
   "execution_count": 5,
   "id": "1f450f5d",
   "metadata": {},
   "outputs": [
    {
     "name": "stdout",
     "output_type": "stream",
     "text": [
      "classical bound :  7.0\n",
      "iteration :  0 , score :  3.619068481619326\n",
      "elapsed time :  0.04718804359436035\n",
      "iteration :  20 , score :  7.497065017776701\n",
      "elapsed time :  0.13401532173156738\n",
      "iteration :  40 , score :  7.498941967992065\n",
      "elapsed time :  0.04632282257080078\n",
      "iteration :  60 , score :  7.499487562490865\n",
      "elapsed time :  0.0493009090423584\n",
      "max score :  7.499730864257384\n",
      "optimal behavior :  [[1.    0.25  0.252 0.249 1.    0.248 0.249 0.251 1.   ]\n",
      " [0.    0.75  0.748 0.751 0.    0.752 0.751 0.749 0.   ]]\n"
     ]
    }
   ],
   "source": [
    "num_senders = 2\n",
    "num_in = 3\n",
    "\n",
    "ghz_assisted_finger_printing(\n",
    "    num_senders,\n",
    "    num_in,\n",
    "    sample_width = 20,\n",
    "    num_steps = 80,\n",
    "    step_size = 0.4\n",
    ")"
   ]
  },
  {
   "cell_type": "code",
   "execution_count": 6,
   "id": "5f6bf84b",
   "metadata": {},
   "outputs": [
    {
     "name": "stdout",
     "output_type": "stream",
     "text": [
      "classical bound :  13.0\n",
      "iteration :  0 , score :  8.320930763678682\n",
      "elapsed time :  0.08291792869567871\n",
      "iteration :  20 , score :  11.99923472469059\n",
      "elapsed time :  0.08983397483825684\n",
      "iteration :  40 , score :  11.999941133788692\n",
      "elapsed time :  0.0786280632019043\n",
      "iteration :  60 , score :  11.999994404603209\n",
      "elapsed time :  0.0797581672668457\n",
      "max score :  11.999999465416746\n",
      "optimal behavior :  [[0.928 0.692 0.236 0.    0.691 0.928 0.    0.236 0.236 0.    0.928 0.691\n",
      "  0.    0.236 0.692 0.928]\n",
      " [0.072 0.308 0.764 1.    0.309 0.072 1.    0.764 0.764 1.    0.072 0.309\n",
      "  1.    0.764 0.308 0.072]]\n"
     ]
    }
   ],
   "source": [
    "num_senders = 2\n",
    "num_in = 4\n",
    "\n",
    "ghz_assisted_finger_printing(\n",
    "    num_senders,\n",
    "    num_in,\n",
    "    sample_width = 20,\n",
    "    num_steps = 80,\n",
    "    step_size = 0.4\n",
    ")"
   ]
  },
  {
   "cell_type": "code",
   "execution_count": 7,
   "id": "090b4721",
   "metadata": {},
   "outputs": [
    {
     "name": "stdout",
     "output_type": "stream",
     "text": [
      "classical bound :  21.0\n",
      "iteration :  0 , score :  13.239373885189298\n",
      "elapsed time :  0.13154816627502441\n",
      "iteration :  20 , score :  19.9698172499556\n",
      "elapsed time :  0.12133407592773438\n",
      "iteration :  40 , score :  19.99955750219714\n",
      "elapsed time :  0.12247705459594727\n",
      "iteration :  60 , score :  19.999993113257418\n",
      "elapsed time :  0.12786579132080078\n",
      "max score :  19.999999892727732\n",
      "optimal behavior :  [[0. 0. 0. 0. 0. 0. 0. 0. 0. 0. 0. 0. 0. 0. 0. 0. 0. 0. 0. 0. 0. 0. 0. 0.\n",
      "  0.]\n",
      " [1. 1. 1. 1. 1. 1. 1. 1. 1. 1. 1. 1. 1. 1. 1. 1. 1. 1. 1. 1. 1. 1. 1. 1.\n",
      "  1.]]\n"
     ]
    }
   ],
   "source": [
    "num_senders = 2\n",
    "num_in = 5\n",
    "\n",
    "ghz_assisted_finger_printing(\n",
    "    num_senders,\n",
    "    num_in,\n",
    "    sample_width = 20,\n",
    "    num_steps = 80,\n",
    "    step_size = 0.4\n",
    ")"
   ]
  },
  {
   "cell_type": "markdown",
   "id": "d9e95db8",
   "metadata": {},
   "source": [
    "## Three Senders with GHZ Preparations"
   ]
  },
  {
   "cell_type": "code",
   "execution_count": 8,
   "id": "2a16410e",
   "metadata": {},
   "outputs": [
    {
     "name": "stdout",
     "output_type": "stream",
     "text": [
      "classical bound :  25.0\n",
      "iteration :  0 , score :  17.93975470022427\n",
      "elapsed time :  0.26220202445983887\n",
      "iteration :  20 , score :  22.01826086722711\n",
      "elapsed time :  0.19055891036987305\n",
      "iteration :  40 , score :  22.993302021703013\n",
      "elapsed time :  0.1766369342803955\n",
      "iteration :  60 , score :  23.008184464138004\n",
      "elapsed time :  0.17357087135314941\n",
      "max score :  23.954111152849883\n",
      "optimal behavior :  [[0.    0.    0.    0.    0.    0.    0.    0.    0.    0.    0.    0.\n",
      "  0.046 0.046 0.046 0.    0.    0.    0.    0.    0.    0.    0.    0.\n",
      "  0.    0.    0.   ]\n",
      " [1.    1.    1.    1.    1.    1.    1.    1.    1.    1.    1.    1.\n",
      "  0.954 0.954 0.954 1.    1.    1.    1.    1.    1.    1.    1.    1.\n",
      "  1.    1.    1.   ]]\n"
     ]
    }
   ],
   "source": [
    "num_senders = 3\n",
    "num_in = 3\n",
    "\n",
    "ghz_assisted_finger_printing(\n",
    "    num_senders,\n",
    "    num_in,\n",
    "    sample_width = 20,\n",
    "    num_steps = 80,\n",
    "    step_size = 0.4\n",
    ")"
   ]
  },
  {
   "cell_type": "code",
   "execution_count": 9,
   "id": "59e8cdcb",
   "metadata": {},
   "outputs": [
    {
     "name": "stdout",
     "output_type": "stream",
     "text": [
      "classical bound :  61.0\n",
      "iteration :  0 , score :  47.50147676435395\n",
      "elapsed time :  0.5475378036499023\n",
      "iteration :  20 , score :  57.442640122443564\n",
      "elapsed time :  0.5102951526641846\n",
      "iteration :  40 , score :  59.994840447834484\n",
      "elapsed time :  0.5639657974243164\n",
      "iteration :  60 , score :  59.999999526721474\n",
      "elapsed time :  0.5164060592651367\n",
      "max score :  59.99999999995668\n",
      "optimal behavior :  [[0. 0. 0. 0. 0. 0. 0. 0. 0. 0. 0. 0. 0. 0. 0. 0. 0. 0. 0. 0. 0. 0. 0. 0.\n",
      "  0. 0. 0. 0. 0. 0. 0. 0. 0. 0. 0. 0. 0. 0. 0. 0. 0. 0. 0. 0. 0. 0. 0. 0.\n",
      "  0. 0. 0. 0. 0. 0. 0. 0. 0. 0. 0. 0. 0. 0. 0. 0.]\n",
      " [1. 1. 1. 1. 1. 1. 1. 1. 1. 1. 1. 1. 1. 1. 1. 1. 1. 1. 1. 1. 1. 1. 1. 1.\n",
      "  1. 1. 1. 1. 1. 1. 1. 1. 1. 1. 1. 1. 1. 1. 1. 1. 1. 1. 1. 1. 1. 1. 1. 1.\n",
      "  1. 1. 1. 1. 1. 1. 1. 1. 1. 1. 1. 1. 1. 1. 1. 1.]]\n"
     ]
    }
   ],
   "source": [
    "num_senders = 3\n",
    "num_in = 4\n",
    "\n",
    "ghz_assisted_finger_printing(\n",
    "    num_senders,\n",
    "    num_in,\n",
    "    sample_width = 20,\n",
    "    num_steps = 80,\n",
    "    step_size = 0.4\n",
    ")"
   ]
  },
  {
   "cell_type": "code",
   "execution_count": 10,
   "id": "25425445",
   "metadata": {},
   "outputs": [
    {
     "name": "stdout",
     "output_type": "stream",
     "text": [
      "classical bound :  79.0\n",
      "iteration :  0 , score :  69.70718109226713\n",
      "elapsed time :  0.8675241470336914\n",
      "iteration :  20 , score :  78.0\n",
      "elapsed time :  0.8430802822113037\n",
      "iteration :  40 , score :  77.99999999999999\n",
      "elapsed time :  0.8370239734649658\n",
      "iteration :  60 , score :  78.0\n",
      "elapsed time :  0.8348121643066406\n",
      "max score :  78.0\n",
      "optimal behavior :  [[0. 0. 0. 0. 0. 0. 0. 0. 0. 0. 0. 0. 0. 0. 0. 0. 0. 0. 0. 0. 0. 0. 0. 0.\n",
      "  0. 0. 0. 0. 0. 0. 0. 0. 0. 0. 0. 0. 0. 0. 0. 0. 0. 0. 0. 0. 0. 0. 0. 0.\n",
      "  0. 0. 0. 0. 0. 0. 0. 0. 0. 0. 0. 0. 0. 0. 0. 0. 0. 0. 0. 0. 0. 0. 0. 0.\n",
      "  0. 0. 0. 0. 0. 0. 0. 0. 0.]\n",
      " [1. 1. 1. 1. 1. 1. 1. 1. 1. 1. 1. 1. 1. 1. 1. 1. 1. 1. 1. 1. 1. 1. 1. 1.\n",
      "  1. 1. 1. 1. 1. 1. 1. 1. 1. 1. 1. 1. 1. 1. 1. 1. 1. 1. 1. 1. 1. 1. 1. 1.\n",
      "  1. 1. 1. 1. 1. 1. 1. 1. 1. 1. 1. 1. 1. 1. 1. 1. 1. 1. 1. 1. 1. 1. 1. 1.\n",
      "  1. 1. 1. 1. 1. 1. 1. 1. 1.]]\n"
     ]
    }
   ],
   "source": [
    "num_senders = 4\n",
    "num_in = 3\n",
    "\n",
    "ghz_assisted_finger_printing(\n",
    "    num_senders,\n",
    "    num_in,\n",
    "    sample_width = 20,\n",
    "    num_steps = 80,\n",
    "    step_size = 0.4\n",
    ")"
   ]
  },
  {
   "cell_type": "markdown",
   "id": "ce6e79ed",
   "metadata": {},
   "source": [
    "## Scratch"
   ]
  },
  {
   "cell_type": "code",
   "execution_count": 11,
   "id": "a43459e4",
   "metadata": {},
   "outputs": [],
   "source": [
    "import qiskit\n",
    "\n",
    "with qml.tape.QuantumTape() as tape:\n",
    "    qml.RX(0.3, wires=0)\n",
    "    qml.CNOT(wires=[0,1])\n",
    "\n",
    "    qml.expval(qml.PauliZ(0))\n",
    "\n",
    "qasm_version = tape.to_openqasm()"
   ]
  },
  {
   "cell_type": "code",
   "execution_count": 12,
   "id": "e10de45f",
   "metadata": {},
   "outputs": [],
   "source": [
    "from qiskit import QuantumCircuit, ClassicalRegister, QuantumRegister"
   ]
  },
  {
   "cell_type": "code",
   "execution_count": 13,
   "id": "f51d9a83",
   "metadata": {},
   "outputs": [
    {
     "data": {
      "image/png": "[encoded data removed]",
      "text/plain": [
       "<Figure size 327.252x204.68 with 1 Axes>"
      ]
     },
     "execution_count": 13,
     "metadata": {},
     "output_type": "execute_result"
    }
   ],
   "source": [
    "QuantumCircuit.from_qasm_str(qasm_version).draw(output=\"mpl\")"
   ]
  },
  {
   "cell_type": "code",
   "execution_count": null,
   "id": "c4cc15cf",
   "metadata": {},
   "outputs": [],
   "source": []
  }
 ],
 "metadata": {
  "@webio": {
   "lastCommId": null,
   "lastKernelId": null
  },
  "kernelspec": {
   "display_name": "Python 3 (ipykernel)",
   "language": "python",
   "name": "python3"
  },
  "language_info": {
   "codemirror_mode": {
    "name": "ipython",
    "version": 3
   },
   "file_extension": ".py",
   "mimetype": "text/x-python",
   "name": "python",
   "nbconvert_exporter": "python",
   "pygments_lexer": "ipython3",
   "version": "3.8.11"
  }
 },
 "nbformat": 4,
 "nbformat_minor": 5
}
