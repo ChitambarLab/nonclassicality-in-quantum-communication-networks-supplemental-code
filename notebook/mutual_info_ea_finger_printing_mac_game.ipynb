{
 "cells": [
  {
   "cell_type": "markdown",
   "id": "a7b66cf7",
   "metadata": {},
   "source": [
    "# VQO of Mutual Information in Finger Printing MAC Game\n",
    "\n",
    "Consider a two sender multiple access channel assisted by entanglement shared between the two senders.\n",
    "Given their local input $x_i\\in\\{0,1,2\\}$, each sender measures their side of the entangled state and sends (classically) the result to a MAC Game that referees a finger printing task between the two senders.\n",
    "The two senders win this game if their respective inputs, $x_1$ and $x_2$, match.\n",
    "The challenge is, however, that the two senders do not communicate and may only send 1-bit to the receiving MAC.\n",
    "That is, the complete input cannot be sent."
   ]
  },
  {
   "cell_type": "code",
   "execution_count": 1,
   "id": "abfb147b",
   "metadata": {},
   "outputs": [],
   "source": [
    "from qnet_context import qnetvo as qnet\n",
    "from mac_context import *\n",
    "import pennylane as qml\n",
    "import pennylane.numpy as np\n",
    "import matplotlib.pyplot as plt"
   ]
  },
  {
   "cell_type": "markdown",
   "id": "cad50143",
   "metadata": {},
   "source": [
    "## Ansatz"
   ]
  },
  {
   "cell_type": "code",
   "execution_count": 2,
   "id": "f54692e0",
   "metadata": {},
   "outputs": [],
   "source": [
    "ea_prep_node = [\n",
    "    qnet.PrepareNode(1, [0,1], qnet.ghz_state, 0)\n",
    "]\n",
    "cl_prep_node = [\n",
    "    qnet.PrepareNode(1, [0,1], lambda settings, wires: None, 0)\n",
    "]\n",
    "ry_meas_nodes = [\n",
    "    qnet.MeasureNode(3, 2, [0], qnet.local_RY, 1),\n",
    "    qnet.MeasureNode(3, 2, [1], qnet.local_RY, 1)\n",
    "]\n",
    "\n",
    "ea_ansatz = qnet.NetworkAnsatz(ea_prep_node, ry_meas_nodes)\n",
    "cl_ansatz = qnet.NetworkAnsatz(cl_prep_node, ry_meas_nodes)\n",
    "\n",
    "# uniform prior distribution\n",
    "uniform3 = np.ones(3)/3"
   ]
  },
  {
   "cell_type": "markdown",
   "id": "1c641018",
   "metadata": {},
   "source": [
    "## MAC Game Behaviors\n",
    "\n",
    "The Game behaviors are defined similarly to [Playing Games with MACs](https://arxiv.org/abs/1909.02479) (see Eq. 2).\n"
   ]
  },
  {
   "cell_type": "code",
   "execution_count": 3,
   "id": "de2e5302",
   "metadata": {},
   "outputs": [],
   "source": [
    "def mac_game_behavior_fn(ansatz):\n",
    "    \"\"\"Constructs and ansatz-specific behavior function.\n",
    "    \n",
    "    The the function is called as `behavior(ansatz_settings, [prior_x1, prior_x2])`\n",
    "    with `prior_x1` and `prior_x2` being prior distibutions P(x1) and P(x2).\n",
    "    \n",
    "    The constructed behavior has form P(z|x1,x2,y1,y2) with a joint prior distribution\n",
    "    P(x1,x2,y1,y2) = P(x1)P(x2)P(y1,y2|x1,x2).\n",
    "    \"\"\"\n",
    "        \n",
    "    fp_behavior = qnet.behavior_fn(ansatz)\n",
    "    \n",
    "    def behavior_fn(settings, priors):\n",
    "        \n",
    "        raw_behavior = fp_behavior(settings)\n",
    "        \n",
    "        prior_xy = np.kron(priors[0], priors[1])\n",
    "        \n",
    "        new_priors = (raw_behavior * prior_xy).T.reshape(36) \n",
    "                \n",
    "        P_win = []\n",
    "        P_mac_game = np.zeros((9,36))\n",
    "        i = 0\n",
    "        for x in range(3):\n",
    "            for y in range(3):\n",
    "                \n",
    "                win_col_ids = [0,3] if x == y else [1,2]\n",
    "                lose_col_ids = [1,2] if x == y else [0,3]\n",
    "                \n",
    "                block_xy = np.zeros((9,4)) \n",
    "                block_xy[3*x + y, win_col_ids] = [1,1]\n",
    "                block_xy[:,lose_col_ids] = np.ones((9,2))/9\n",
    "                \n",
    "                P_mac_game[:,4*i:4*(i + 1)] = block_xy\n",
    "                \n",
    "                i += 1\n",
    "                \n",
    "        return P_mac_game, new_priors\n",
    "    \n",
    "    return behavior_fn\n",
    "\n",
    "def big_mac_game_behavior_fn(ansatz):\n",
    "    \"\"\"Constructs and ansatz-specific behavior function.\n",
    "    \n",
    "    The the function is called as `behavior(ansatz_settings)`.\n",
    "    \n",
    "    The constructed behavior has form P(z|x1,x2)..\n",
    "    \"\"\"\n",
    "        \n",
    "    fp_behavior = qnet.behavior_fn(ansatz, post_map=np.array([[1,0,0,1],[0,1,1,0]]))\n",
    "    fp_mat = np.array([[1,0,0,0,1,0,0,0,1],[0,1,1,1,0,1,1,1,0]])\n",
    "    \n",
    "    def behavior_fn(settings):\n",
    "        \n",
    "        raw_behavior = fp_behavior(settings)    \n",
    "               \n",
    "        P_win = []\n",
    "        for x in range(3):\n",
    "            for y in range(3):    \n",
    "                row_id = 0 if x == y else 1\n",
    "                P_win.append(raw_behavior[row_id, 3*x + y])         \n",
    "                \n",
    "        behavior = np.diag(P_win)\n",
    "                \n",
    "        for i in range(len(P_win)):\n",
    "            P_lose = 1 - P_win[i]\n",
    "            behavior[:,i] += P_lose * np.ones(9)/9\n",
    "                                    \n",
    "        return behavior       \n",
    "    \n",
    "    return behavior_fn"
   ]
  },
  {
   "cell_type": "markdown",
   "id": "1c08ba34",
   "metadata": {},
   "source": [
    "## MAC Game Rate Tuple\n",
    "\n",
    "$$\n",
    "\\Big\\{R_1 \\leq I(Z;X_1,Y_1|X_2,Y_2),\\quad R_2 \\leq I(Z;X_2,Y_2|X_1,Y_1),\\quad R_1 + R_2 \\leq I(Z;X_1,X_2,Y_1,Y_2)\\Big\\}\n",
    "$$"
   ]
  },
  {
   "cell_type": "code",
   "execution_count": 4,
   "id": "db299406",
   "metadata": {},
   "outputs": [],
   "source": [
    "def mac_game_rate_tuple(behavior, priors):\n",
    "    \"\"\"Evaluates the rate tuple (R1, R2, R1 + R2) for a given mac game\n",
    "    behavior matrix with probabilities P(z|x1,x2,y1,y2) and priors P(x1,x2,y1,y2).\n",
    "        \n",
    "    Returns the rate tuple (R1, R2, R_sum) \n",
    "    \"\"\"\n",
    "    P_x1x2y1y2 = behavior * priors\n",
    "    \n",
    "    P_x1x2y1 = P_x1x2y1y2[:,0:36:2] + P_x1x2y1y2[:,1:36:2]\n",
    "    priors_x1x2y1 = priors[0:36:2] + priors[1:36:2]\n",
    "    \n",
    "    y1_ids = np.array([0,1,4,5,8,9,12,13,16,17,20,21,24,25,28,29,32,33])\n",
    "    P_x1x2y2 = P_x1x2y1y2[:, y1_ids] + P_x1x2y1y2[:,y1_ids+2]\n",
    "    priors_x1x2y2 = priors[y1_ids] + priors[y1_ids+2]\n",
    "    \n",
    "    x2_ids = np.array([0,1,6,7,12,13])\n",
    "    P_x1y1 = P_x1x2y1[:,x2_ids] + P_x1x2y1[:,x2_ids + 2] + P_x1x2y1[:,x2_ids + 4]\n",
    "    priors_x1y1 = priors_x1x2y1[x2_ids] + priors_x1x2y1[x2_ids + 2] + priors_x1x2y1[x2_ids + 4]\n",
    "    \n",
    "    x1_ids = np.array([0,1,2,3,4,5])\n",
    "    P_x2y2 = P_x1x2y2[:,x1_ids] + P_x1x2y2[:,x1_ids + 6] + P_x1x2y2[:,x1_ids + 12]\n",
    "    priors_x2y2 = priors_x1x2y2[x1_ids] + priors_x1x2y2[x1_ids + 6] + priors_x1x2y2[x1_ids + 12]\n",
    "    \n",
    "    H_in = qnet.shannon_entropy(priors)\n",
    "    H_joint = qnet.shannon_entropy((P_x1x2y1y2).T.reshape(9*36))\n",
    "    H_z = qnet.shannon_entropy([np.sum(row) for row in (P_x1x2y1y2)])\n",
    "\n",
    "    mutual_info = H_in + H_z - H_joint\n",
    "    \n",
    "    H_x1y1 = qnet.shannon_entropy(priors_x1y1)\n",
    "    H_x2y2 = qnet.shannon_entropy(priors_x2y2)\n",
    "    H_zx1y1 = qnet.shannon_entropy((P_x1y1).T.reshape(9*6))\n",
    "    H_zx2y2 = qnet.shannon_entropy((P_x2y2).T.reshape(9*6))\n",
    "    \n",
    "    mutual_info_z_x1y1 = H_z + H_x1y1 - H_zx1y1\n",
    "    mutual_info_z_x2y2 = H_z + H_x2y2 - H_zx2y2\n",
    "        \n",
    "    return (mutual_info - mutual_info_z_x2y2, mutual_info - mutual_info_z_x1y1 , mutual_info)"
   ]
  },
  {
   "cell_type": "markdown",
   "id": "fd6d7396",
   "metadata": {},
   "source": [
    "## Ideal Entanglement Assisted Rate Region for Uniform Priors"
   ]
  },
  {
   "cell_type": "code",
   "execution_count": 5,
   "id": "d80a4f2f",
   "metadata": {},
   "outputs": [
    {
     "data": {
      "image/png": "[encoded data removed]",
      "text/plain": [
       "<Figure size 432x288 with 1 Axes>"
      ]
     },
     "metadata": {
      "needs_background": "light"
     },
     "output_type": "display_data"
    }
   ],
   "source": [
    "ea_mac_behavior = mac_game_behavior_fn(ea_ansatz)\n",
    "\n",
    "ideal_settings = [\n",
    "    [np.array([[]])],\n",
    "    [np.array([[0],[2*np.pi/3],[4*np.pi/3]]), np.array([[0],[2*np.pi/3],[4*np.pi/3]])]\n",
    "]\n",
    "\n",
    "priors = [uniform3, uniform3]\n",
    "P_ea_ideal, ideal_priors = ea_mac_behavior(ideal_settings, priors)\n",
    "\n",
    "ideal_ea_rate_tuple = mac_game_rate_tuple(P_ea_ideal, ideal_priors)\n",
    "\n",
    "r1_vals, r2_vals = rate_region_vertices(ideal_ea_rate_tuple)\n",
    "    \n",
    "plt.plot(r1_vals, r2_vals,\"b-\")\n",
    "plt.title(\"Ideal Entanglement Assisted\\nFinger Printing Game Rate Region\")\n",
    "plt.xlabel(\"Rate 1\")\n",
    "plt.ylabel(\"Rate 2\")\n",
    "plt.show()"
   ]
  },
  {
   "cell_type": "markdown",
   "id": "a43fd73d",
   "metadata": {},
   "source": [
    "## Perfect Winning Finger Printing Rate Region"
   ]
  },
  {
   "cell_type": "code",
   "execution_count": 22,
   "id": "8ac5d2c6",
   "metadata": {},
   "outputs": [
    {
     "data": {
      "image/png": "[encoded data removed]",
      "text/plain": [
       "<Figure size 432x288 with 1 Axes>"
      ]
     },
     "metadata": {
      "needs_background": "light"
     },
     "output_type": "display_data"
    }
   ],
   "source": [
    "# perfect MAC Strategy for finger printing\n",
    "P_perfect_mac = np.array([\n",
    "    [1,0,0,1,0,0,0,0,0,0,0,0,0,0,0,0,0,0,0,0,0,0,0,0,0,0,0,0,0,0,0,0,0,0,0,0],\n",
    "    [0,0,0,0,0,1,1,0,0,0,0,0,0,0,0,0,0,0,0,0,0,0,0,0,0,0,0,0,0,0,0,0,0,0,0,0],\n",
    "    [0,0,0,0,0,0,0,0,0,1,1,0,0,0,0,0,0,0,0,0,0,0,0,0,0,0,0,0,0,0,0,0,0,0,0,0],\n",
    "    [0,0,0,0,0,0,0,0,0,0,0,0,0,1,1,0,0,0,0,0,0,0,0,0,0,0,0,0,0,0,0,0,0,0,0,0],\n",
    "    [0,0,0,0,0,0,0,0,0,0,0,0,0,0,0,0,1,0,0,1,0,0,0,0,0,0,0,0,0,0,0,0,0,0,0,0],\n",
    "    [0,0,0,0,0,0,0,0,0,0,0,0,0,0,0,0,0,0,0,0,0,1,1,0,0,0,0,0,0,0,0,0,0,0,0,0],\n",
    "    [0,0,0,0,0,0,0,0,0,0,0,0,0,0,0,0,0,0,0,0,0,0,0,0,0,1,1,0,0,0,0,0,0,0,0,0],\n",
    "    [0,0,0,0,0,0,0,0,0,0,0,0,0,0,0,0,0,0,0,0,0,0,0,0,0,0,0,0,0,1,1,0,0,0,0,0],\n",
    "    [0,0,0,0,0,0,0,0,0,0,0,0,0,0,0,0,0,0,0,0,0,0,0,0,0,0,0,0,0,0,0,0,1,0,0,1],\n",
    "])\n",
    "perfect_priors = np.array(\n",
    "    [1,0,0,1,0,1,1,0,0,1,1,0,0,1,1,0,1,0,0,1,0,1,1,0,0,1,1,0,0,1,1,0,1,0,0,1]\n",
    ")/18\n",
    "perfect_priors = np.array(\n",
    "    [1,0,0,1,0,1,1,0,0,1,1,0,0,1,1,0,1,0,0,1,0,1,1,0,0,0,0,0,0,0,0,0,0,0,0,0]#,0,1,1,0,0,1,1,0,1,0,0,1]\n",
    ")/12\n",
    "\n",
    "perfect_rate_tuple = mac_game_rate_tuple(P_perfect_mac, perfect_priors)\n",
    "        \n",
    "r1_vals, r2_vals = rate_region_vertices(perfect_rate_tuple)\n",
    "plt.plot(r1_vals, r2_vals,\"r-\")\n",
    "        \n",
    "        \n",
    "plt.title(\"Perfect Winning Finger Printing Rate Region\")\n",
    "plt.xlabel(\"Rate 1\")\n",
    "plt.ylabel(\"Rate 2\")\n",
    "\n",
    "plt.plot([np.log2(3)],[np.log2(3)], \"r-x\")\n",
    "plt.show()"
   ]
  },
  {
   "cell_type": "markdown",
   "id": "2a3b6681",
   "metadata": {},
   "source": [
    "## Cost Function for Optimal Sum Rate"
   ]
  },
  {
   "cell_type": "code",
   "execution_count": 8,
   "id": "cb1f4d79",
   "metadata": {},
   "outputs": [],
   "source": [
    "def mutual_info_finger_printing_cost_fn(ansatz, priors):\n",
    "    \n",
    "    probs_qnode = qnet.joint_probs_qnode(ansatz)\n",
    "    \n",
    "    def cost_fn(ansatz_settings):\n",
    "        # optimize winning probability\n",
    "        P_Z_list = []\n",
    "        for x in range(3):\n",
    "            for y in range(3):\n",
    "                \n",
    "                settings = ansatz.qnode_settings(ansatz_settings, [0], [x, y]) # prep node is static\n",
    "                probs_xy = probs_qnode(settings)\n",
    "                                \n",
    "                prior = priors[0][x] * priors[1][y]   \n",
    "                win_ids = [0,3] if x == y else [1,2]\n",
    "                \n",
    "                P_win_xy = np.sum(probs_xy[win_ids]) * prior\n",
    "                             \n",
    "                P_Z_list.append(P_win_xy)\n",
    "        \n",
    "        # postprocess winning probablity into mutual information\n",
    "        P_lose = 1 - np.sum(P_Z_list)\n",
    "        \n",
    "        P_Z = P_lose * np.ones(9)/9 + np.array(P_Z_list)\n",
    "                \n",
    "        H_Z = qnet.shannon_entropy(P_Z)\n",
    "                \n",
    "        mutual_info = H_Z - P_lose * np.log2(9)\n",
    "                        \n",
    "        return -(mutual_info)\n",
    "    \n",
    "    return cost_fn\n",
    "\n",
    "\n",
    "def scan_fp_rate_region(ansatz, prior_x1_samples, prior_x2_samples, **opt_kwargs):\n",
    "    \n",
    "    rate_tuples = []\n",
    "    opt_dicts = []\n",
    "    priors_list = []\n",
    "    for prior_x1 in prior_x1_samples:\n",
    "        for prior_x2 in prior_x2_samples:\n",
    "            print(\"prior_x1  = \", prior_x1)\n",
    "            print(\"prior_x2 = \", prior_x2)\n",
    "            \n",
    "            cost = mutual_info_finger_printing_cost_fn(ansatz, [prior_x1, prior_x2])\n",
    "\n",
    "            opt_dict = qnet.gradient_descent(\n",
    "                cost,\n",
    "                ansatz.rand_scenario_settings(),\n",
    "                **opt_kwargs\n",
    "            )\n",
    "            \n",
    "            mac_behavior = mac_game_behavior_fn(ansatz)\n",
    "                   \n",
    "            P_mac, prior_mac = mac_behavior(\n",
    "                opt_dict[\"opt_settings\"],\n",
    "                [prior_x1, prior_x2]\n",
    "            )\n",
    "            rate_tuple = mac_game_rate_tuple(P_mac, prior_mac)\n",
    "            print(rate_tuple)\n",
    "        \n",
    "            opt_dicts.append(opt_dict)\n",
    "            rate_tuples.append(rate_tuple)\n",
    "            priors_list.append([prior_x1, prior_x2])\n",
    "                  \n",
    "    return rate_tuples, opt_dicts, priors_list"
   ]
  },
  {
   "cell_type": "markdown",
   "id": "c5cf9b51",
   "metadata": {},
   "source": [
    "## Entanglement-Assisted Data Collection"
   ]
  },
  {
   "cell_type": "code",
   "execution_count": 9,
   "id": "9b13f238",
   "metadata": {},
   "outputs": [],
   "source": [
    "ea_rate_tuples = []\n",
    "ea_opt_dicts = []\n",
    "ea_priors_list = []"
   ]
  },
  {
   "cell_type": "markdown",
   "id": "eaf44e08",
   "metadata": {},
   "source": [
    "### EA: Uniform Priors"
   ]
  },
  {
   "cell_type": "code",
   "execution_count": 10,
   "id": "06903452",
   "metadata": {},
   "outputs": [
    {
     "name": "stdout",
     "output_type": "stream",
     "text": [
      "prior_x1  =  [0.33333333 0.33333333 0.33333333]\n",
      "prior_x2 =  [0.33333333 0.33333333 0.33333333]\n",
      "(1.6600468113723998, 1.6600468111968611, 2.6318315211785714)\n",
      "2.63183152117857\n"
     ]
    }
   ],
   "source": [
    "opt_score = 0\n",
    "while opt_score < 2.6:\n",
    "    ea_rate_tuples_uni, ea_opt_dicts_uni, ea_priors_list_uni = scan_fp_rate_region(\n",
    "        ea_ansatz,\n",
    "        [uniform3],\n",
    "        [uniform3],\n",
    "        num_steps=50,\n",
    "        step_size=0.5,\n",
    "        sample_width=5,\n",
    "        verbose=False\n",
    "    )\n",
    "    \n",
    "    opt_score = ea_opt_dicts_uni[0][\"opt_score\"]\n",
    "    print(opt_score)\n",
    "    \n",
    "\n",
    "ea_rate_tuples.extend(ea_rate_tuples_uni)\n",
    "ea_opt_dicts.extend(ea_opt_dicts_uni)\n",
    "ea_priors_list.extend(ea_priors_list_uni)  "
   ]
  },
  {
   "cell_type": "markdown",
   "id": "14b0b866",
   "metadata": {},
   "source": [
    "### EA: Prior Scan Step = 1/3 "
   ]
  },
  {
   "cell_type": "code",
   "execution_count": 11,
   "id": "bc9cf8fb",
   "metadata": {},
   "outputs": [
    {
     "name": "stdout",
     "output_type": "stream",
     "text": [
      "prior_x1  =  [0. 0. 1.]\n",
      "prior_x2 =  [0. 0. 1.]\n",
      "(0.7445137576865402, 0.7445137576865402, 0.7445137576865406)\n",
      "prior_x1  =  [0. 0. 1.]\n",
      "prior_x2 =  [0.    0.333 0.667]\n",
      "(0.4910617166387561, 1.2631387140865282, 1.2631387140865287)\n",
      "prior_x1  =  [0. 0. 1.]\n",
      "prior_x2 =  [0.333 0.333 0.333]\n",
      "(0.3677436644465395, 1.6849014460390257, 1.6863434194918252)\n",
      "prior_x1  =  [0.    0.333 0.667]\n",
      "prior_x2 =  [0. 0. 1.]\n",
      "(1.263209877002181, 0.48857134756410536, 1.2632098770021805)\n",
      "prior_x1  =  [0.    0.333 0.667]\n",
      "prior_x2 =  [0.    0.333 0.667]\n",
      "(1.1297286351219409, 1.1307239105787121, 1.9143528888005261)\n",
      "prior_x1  =  [0.    0.333 0.667]\n",
      "prior_x2 =  [0.333 0.333 0.333]\n",
      "(1.1171584221752724, 1.6756929564197933, 2.3233467990145655)\n",
      "prior_x1  =  [0.333 0.333 0.333]\n",
      "prior_x2 =  [0. 0. 1.]\n",
      "(1.6863560078054864, 0.38948119122607583, 1.6877979812582855)\n",
      "prior_x1  =  [0.333 0.333 0.333]\n",
      "prior_x2 =  [0.    0.333 0.667]\n",
      "(1.676037786873421, 1.118394068772104, 2.323357685982213)\n",
      "prior_x1  =  [0.333 0.333 0.333]\n",
      "prior_x2 =  [0.333 0.333 0.333]\n",
      "(1.5016539541603882, 1.501653205033083, 2.3479883699029225)\n",
      "CPU times: user 20.5 s, sys: 146 ms, total: 20.6 s\n",
      "Wall time: 20.6 s\n"
     ]
    }
   ],
   "source": [
    "%%time\n",
    "\n",
    "scan_range3 = np.unique([\n",
    "    np.around(np.sort(prior),decimals=3) for prior in priors_scan_range(3)\n",
    "], axis=0)\n",
    "\n",
    "ea_rate_tuples3, ea_opt_dicts3, ea_priors_list3 = scan_fp_rate_region(\n",
    "    ea_ansatz,\n",
    "    scan_range3,\n",
    "    scan_range3,\n",
    "    num_steps=50,\n",
    "    step_size=0.5,\n",
    "    sample_width=5,\n",
    "    verbose=False\n",
    ")\n",
    "\n",
    "ea_rate_tuples.extend(ea_rate_tuples3)\n",
    "ea_opt_dicts.extend(ea_opt_dicts3)\n",
    "ea_priors_list.extend(ea_priors_list3)"
   ]
  },
  {
   "cell_type": "markdown",
   "id": "45cfa9a6",
   "metadata": {},
   "source": [
    "### EA: Prior Scan Step = 1/4"
   ]
  },
  {
   "cell_type": "code",
   "execution_count": 12,
   "id": "b4d9c7f4",
   "metadata": {},
   "outputs": [
    {
     "name": "stdout",
     "output_type": "stream",
     "text": [
      "prior_x1  =  [0. 0. 1.]\n",
      "prior_x2 =  [0. 0. 1.]\n",
      "(0.7445137576865393, 0.7445137576865393, 0.7445137576865397)\n",
      "prior_x1  =  [0. 0. 1.]\n",
      "prior_x2 =  [0.   0.25 0.75]\n",
      "(0.5496918657007965, 1.2169797938873042, 1.2169797938873037)\n",
      "prior_x1  =  [0. 0. 1.]\n",
      "prior_x2 =  [0.  0.5 0.5]\n",
      "(0.6033889825181897, 1.2720884376886885, 1.272088437688689)\n",
      "prior_x1  =  [0. 0. 1.]\n",
      "prior_x2 =  [0.25 0.25 0.5 ]\n",
      "(0.3431987835378183, 1.6627563152074125, 1.662756315207413)\n",
      "prior_x1  =  [0.   0.25 0.75]\n",
      "prior_x2 =  [0. 0. 1.]\n",
      "(1.216972581549916, 0.5498090999972245, 1.2169725815499155)\n",
      "prior_x1  =  [0.   0.25 0.75]\n",
      "prior_x2 =  [0.   0.25 0.75]\n",
      "(1.1004674424528123, 1.099820990864243, 1.75067136893004)\n",
      "prior_x1  =  [0.   0.25 0.75]\n",
      "prior_x2 =  [0.  0.5 0.5]\n",
      "(0.9823364889040502, 1.170145139264299, 1.8694823413953139)\n",
      "prior_x1  =  [0.   0.25 0.75]\n",
      "prior_x2 =  [0.25 0.25 0.5 ]\n",
      "(1.0088228772081993, 1.5903787277441843, 2.182647031194599)\n",
      "prior_x1  =  [0.  0.5 0.5]\n",
      "prior_x2 =  [0. 0. 1.]\n",
      "(1.2721183736635928, 0.6035503190636664, 1.2721183736635928)\n",
      "prior_x1  =  [0.  0.5 0.5]\n",
      "prior_x2 =  [0.   0.25 0.75]\n",
      "(1.1130699801819253, 0.9240452952522444, 1.375406545778441)\n",
      "prior_x1  =  [0.  0.5 0.5]\n",
      "prior_x2 =  [0.  0.5 0.5]\n",
      "(1.1155367567715184, 1.127808162745831, 2.0333752946347072)\n",
      "prior_x1  =  [0.  0.5 0.5]\n",
      "prior_x2 =  [0.25 0.25 0.5 ]\n",
      "(1.1901655205103134, 1.5840963686707026, 2.3258609363945)\n",
      "prior_x1  =  [0.25 0.25 0.5 ]\n",
      "prior_x2 =  [0. 0. 1.]\n",
      "(1.6611878884995348, 0.362765368487167, 1.6611878884995352)\n",
      "prior_x1  =  [0.25 0.25 0.5 ]\n",
      "prior_x2 =  [0.   0.25 0.75]\n",
      "(1.5896823505255946, 1.006393026472002, 2.1826170678803303)\n",
      "prior_x1  =  [0.25 0.25 0.5 ]\n",
      "prior_x2 =  [0.  0.5 0.5]\n",
      "(1.5841303536688969, 1.1902086018260416, 2.3258764835263683)\n",
      "prior_x1  =  [0.25 0.25 0.5 ]\n",
      "prior_x2 =  [0.25 0.25 0.5 ]\n",
      "(1.45939393263059, 1.4589146995323272, 2.233230897604356)\n",
      "CPU times: user 36.4 s, sys: 204 ms, total: 36.6 s\n",
      "Wall time: 36.5 s\n"
     ]
    }
   ],
   "source": [
    "%%time\n",
    "\n",
    "scan_range4 = np.unique([np.around(np.sort(prior),decimals=3) for prior in priors_scan_range(4)], axis=0)\n",
    "\n",
    "ea_rate_tuples4, ea_opt_dicts4, ea_priors_list4 = scan_fp_rate_region(\n",
    "    ea_ansatz,\n",
    "    scan_range4,\n",
    "    scan_range4,\n",
    "    num_steps=50,\n",
    "    step_size=0.5,\n",
    "    sample_width=5,\n",
    "    verbose=False\n",
    ")\n",
    "\n",
    "ea_rate_tuples.extend(ea_rate_tuples4)\n",
    "ea_opt_dicts.extend(ea_opt_dicts4)\n",
    "ea_priors_list.extend(ea_priors_list4)"
   ]
  },
  {
   "cell_type": "markdown",
   "id": "cf021a4a",
   "metadata": {},
   "source": [
    "## Classical Data Collection"
   ]
  },
  {
   "cell_type": "code",
   "execution_count": 13,
   "id": "7d0390f7",
   "metadata": {},
   "outputs": [],
   "source": [
    "cl_rate_tuples = []\n",
    "cl_opt_dicts = []\n",
    "cl_priors_list = []"
   ]
  },
  {
   "cell_type": "markdown",
   "id": "2baf8966",
   "metadata": {},
   "source": [
    "## CL: Uniform Priors"
   ]
  },
  {
   "cell_type": "code",
   "execution_count": 14,
   "id": "208d8915",
   "metadata": {},
   "outputs": [
    {
     "name": "stdout",
     "output_type": "stream",
     "text": [
      "prior_x1  =  [0.33333333 0.33333333 0.33333333]\n",
      "prior_x2 =  [0.33333333 0.33333333 0.33333333]\n",
      "(1.4178259102254005, 1.4183970712357032, 2.2646550464549238)\n",
      "2.2646550464549247\n",
      "prior_x1  =  [0.33333333 0.33333333 0.33333333]\n",
      "prior_x2 =  [0.33333333 0.33333333 0.33333333]\n",
      "(1.3732464453820556, 1.3760897028998915, 2.294300535919721)\n",
      "2.2943005359197226\n",
      "CPU times: user 4.2 s, sys: 33 ms, total: 4.24 s\n",
      "Wall time: 4.22 s\n"
     ]
    }
   ],
   "source": [
    "%%time\n",
    "\n",
    "opt_score = 0\n",
    "while opt_score < 2.29:\n",
    "    cl_rate_tuples_uni, cl_opt_dicts_uni, cl_priors_list_uni = scan_fp_rate_region(\n",
    "        cl_ansatz,\n",
    "        [uniform3],\n",
    "        [uniform3],\n",
    "        num_steps=50,\n",
    "        step_size=0.5,\n",
    "        sample_width=5,\n",
    "        verbose=False\n",
    "    )\n",
    "    \n",
    "    opt_score = cl_opt_dicts_uni[0][\"opt_score\"]\n",
    "    print(opt_score)\n",
    "\n",
    "cl_rate_tuples.extend(cl_rate_tuples_uni)\n",
    "cl_opt_dicts.extend(cl_opt_dicts_uni)\n",
    "cl_priors_list.extend(cl_priors_list_uni)"
   ]
  },
  {
   "cell_type": "markdown",
   "id": "7e170db6",
   "metadata": {},
   "source": [
    "## CL: Priorrs Scan = 1/3"
   ]
  },
  {
   "cell_type": "code",
   "execution_count": 15,
   "id": "102d15e3",
   "metadata": {},
   "outputs": [
    {
     "name": "stdout",
     "output_type": "stream",
     "text": [
      "prior_x1  =  [0. 0. 1.]\n",
      "prior_x2 =  [0. 0. 1.]\n",
      "(0.7031756840180101, 0.6845054340751915, 0.7445136739529712)\n",
      "prior_x1  =  [0. 0. 1.]\n",
      "prior_x2 =  [0.    0.333 0.667]\n",
      "(0.7393296943139611, 0.7085718082645038, 1.0503626390144474)\n",
      "prior_x1  =  [0. 0. 1.]\n",
      "prior_x2 =  [0.333 0.333 0.333]\n",
      "(0.0350085447620847, 1.676706668450338, 1.6851998703182645)\n",
      "prior_x1  =  [0.    0.333 0.667]\n",
      "prior_x2 =  [0. 0. 1.]\n",
      "(1.2622527818288707, 0.005108102668154757, 1.2626157898249906)\n",
      "prior_x1  =  [0.    0.333 0.667]\n",
      "prior_x2 =  [0.    0.333 0.667]\n",
      "(1.0241888762396192, 1.0262428477255972, 1.9011460459260374)\n",
      "prior_x1  =  [0.    0.333 0.667]\n",
      "prior_x2 =  [0.333 0.333 0.333]\n",
      "(0.8571005598072698, 1.5990750983738757, 2.2167851355737307)\n",
      "prior_x1  =  [0.333 0.333 0.333]\n",
      "prior_x2 =  [0. 0. 1.]\n",
      "(1.616265164216962, 0.1887077983956016, 1.68334474286794)\n",
      "prior_x1  =  [0.333 0.333 0.333]\n",
      "prior_x2 =  [0.    0.333 0.667]\n",
      "(1.4912090144990882, 0.7658641466989069, 1.8828069195770833)\n",
      "prior_x1  =  [0.333 0.333 0.333]\n",
      "prior_x2 =  [0.333 0.333 0.333]\n",
      "(1.417733875494716, 1.4177444704156619, 2.259791118354329)\n",
      "CPU times: user 18.9 s, sys: 125 ms, total: 19 s\n",
      "Wall time: 18.9 s\n"
     ]
    }
   ],
   "source": [
    "%%time\n",
    "\n",
    "scan_range3 = np.unique([\n",
    "    np.around(np.sort(prior),decimals=3) for prior in priors_scan_range(3)\n",
    "], axis=0)\n",
    "\n",
    "cl_rate_tuples3, cl_opt_dicts3, cl_priors_list3 = scan_fp_rate_region(\n",
    "    cl_ansatz,\n",
    "    scan_range3,\n",
    "    scan_range3,\n",
    "    num_steps=50,\n",
    "    step_size=0.5,\n",
    "    sample_width=5,\n",
    "    verbose=False\n",
    ")\n",
    "\n",
    "cl_rate_tuples.extend(cl_rate_tuples3)\n",
    "cl_opt_dicts.extend(cl_opt_dicts3)\n",
    "cl_priors_list.extend(cl_priors_list3)"
   ]
  },
  {
   "cell_type": "markdown",
   "id": "42cae619",
   "metadata": {},
   "source": [
    "## CL: Priors Scan Step = 1/4"
   ]
  },
  {
   "cell_type": "code",
   "execution_count": 16,
   "id": "fd0d1a25",
   "metadata": {},
   "outputs": [
    {
     "name": "stdout",
     "output_type": "stream",
     "text": [
      "prior_x1  =  [0. 0. 1.]\n",
      "prior_x2 =  [0. 0. 1.]\n",
      "(0.7438511785612931, 0.12980844638520006, 0.7445137576865402)\n",
      "prior_x1  =  [0. 0. 1.]\n",
      "prior_x2 =  [0.   0.25 0.75]\n",
      "(0.013066338034561475, 1.2151513429847873, 1.2159030949916878)\n",
      "prior_x1  =  [0. 0. 1.]\n",
      "prior_x2 =  [0.  0.5 0.5]\n",
      "(0.3753191043079367, 1.1669552186681393, 1.2720782944380495)\n",
      "prior_x1  =  [0. 0. 1.]\n",
      "prior_x2 =  [0.25 0.25 0.5 ]\n",
      "(0.00605874150384933, 1.6594835035006321, 1.6601637982883521)\n",
      "prior_x1  =  [0.   0.25 0.75]\n",
      "prior_x2 =  [0. 0. 1.]\n",
      "(1.2144917700838183, 0.013722198613018932, 1.2152829186113587)\n",
      "prior_x1  =  [0.   0.25 0.75]\n",
      "prior_x2 =  [0.   0.25 0.75]\n",
      "(0.6748142822463068, 1.0757921435040316, 1.363178964441241)\n",
      "prior_x1  =  [0.   0.25 0.75]\n",
      "prior_x2 =  [0.  0.5 0.5]\n",
      "(0.9675902982338376, 1.0609241477484308, 1.8720804128713473)\n",
      "prior_x1  =  [0.   0.25 0.75]\n",
      "prior_x2 =  [0.25 0.25 0.5 ]\n",
      "(0.6737934337853995, 1.4788127736090466, 1.8127638027327468)\n",
      "prior_x1  =  [0.  0.5 0.5]\n",
      "prior_x2 =  [0. 0. 1.]\n",
      "(1.2066668250000059, 0.29377124308626756, 1.2721100275063049)\n",
      "prior_x1  =  [0.  0.5 0.5]\n",
      "prior_x2 =  [0.   0.25 0.75]\n",
      "(0.9367662615935264, 1.055597527170098, 1.8842712198262968)\n",
      "prior_x1  =  [0.  0.5 0.5]\n",
      "prior_x2 =  [0.  0.5 0.5]\n",
      "(0.9668638012082877, 1.1304412166014104, 2.0341364302087994)\n",
      "prior_x1  =  [0.  0.5 0.5]\n",
      "prior_x2 =  [0.25 0.25 0.5 ]\n",
      "(0.9348639856997276, 1.5142437361096355, 2.2332177907302415)\n",
      "prior_x1  =  [0.25 0.25 0.5 ]\n",
      "prior_x2 =  [0. 0. 1.]\n",
      "(1.6590027332510355, 0.0011285979856294759, 1.6591057903744142)\n",
      "prior_x1  =  [0.25 0.25 0.5 ]\n",
      "prior_x2 =  [0.   0.25 0.75]\n",
      "(1.5110192578160868, 0.7652383588532086, 2.1177282264335293)\n",
      "prior_x1  =  [0.25 0.25 0.5 ]\n",
      "prior_x2 =  [0.  0.5 0.5]\n",
      "(1.3869511033609747, 1.0328997373757671, 2.16926138452318)\n",
      "prior_x1  =  [0.25 0.25 0.5 ]\n",
      "prior_x2 =  [0.25 0.25 0.5 ]\n",
      "(1.391030917315074, 1.3879460851911452, 2.300848799093723)\n",
      "CPU times: user 33.6 s, sys: 192 ms, total: 33.7 s\n",
      "Wall time: 33.7 s\n"
     ]
    }
   ],
   "source": [
    "%%time\n",
    "\n",
    "scan_range4 = np.unique([np.around(np.sort(prior),decimals=3) for prior in priors_scan_range(4)], axis=0)\n",
    "\n",
    "cl_rate_tuples4, cl_opt_dicts4, cl_priors_list4 = scan_fp_rate_region(\n",
    "    cl_ansatz,\n",
    "    scan_range4,\n",
    "    scan_range4,\n",
    "    num_steps=50,\n",
    "    step_size=0.5,\n",
    "    sample_width=5,\n",
    "    verbose=False\n",
    ")\n",
    "\n",
    "cl_rate_tuples.extend(cl_rate_tuples4)\n",
    "cl_opt_dicts.extend(cl_opt_dicts4)\n",
    "cl_priors_list.extend(cl_priors_list4)"
   ]
  },
  {
   "cell_type": "markdown",
   "id": "4b8d7186",
   "metadata": {},
   "source": [
    "## Plotting Rate Region Inner Bounds\n",
    "\n",
    "To evaluate a inner bound on the rate region, we apply similar methods to https://ieeexplore.ieee.org/abstract/document/5590317.\n",
    "\n",
    "We have collected optimized rate regions for a wide range of priors, it remains to take their convex hull and trace out their boundary. This is done with a (linear approximation?) method outlined in the above article."
   ]
  },
  {
   "cell_type": "code",
   "execution_count": 17,
   "id": "f64b0337",
   "metadata": {},
   "outputs": [],
   "source": [
    "def rate_region_inner_bound(rate_tuples, priors, theta_scan=np.arange(0,1.001,0.01)):\n",
    "    \n",
    "    R1_vals = []\n",
    "    R2_vals = []\n",
    "    opt_rate_tuples = []\n",
    "    opt_priors = []\n",
    "\n",
    "    for theta in theta_scan:\n",
    "\n",
    "        theta_sum_rates = []\n",
    "        R1_scores = []\n",
    "        R2_scores = []\n",
    "        for r_tuple in rate_tuples:\n",
    "            biased_rate = theta*r_tuple[0] + (1-theta)*r_tuple[1]\n",
    "            R1 = r_tuple[0]\n",
    "            R2 = r_tuple[1]\n",
    "\n",
    "            if r_tuple[0] + r_tuple[1] > r_tuple[2]:\n",
    "                if theta*r_tuple[0] + (1-theta)*(r_tuple[2]-r_tuple[0]) >= theta*(r_tuple[2]-r_tuple[1]) + (1-theta)*r_tuple[1]:\n",
    "                    biased_rate = theta*r_tuple[0] + (1-theta)*(r_tuple[2]-r_tuple[0])\n",
    "                    R2 = r_tuple[2]-r_tuple[0]\n",
    "                else:\n",
    "                    biased_rate = theta*(r_tuple[2]-r_tuple[1]) + (1-theta)*r_tuple[1]\n",
    "                    R1 = r_tuple[2]-r_tuple[1]\n",
    "\n",
    "            theta_sum_rates.append(biased_rate)\n",
    "            R1_scores.append(R1)\n",
    "            R2_scores.append(R2)\n",
    "\n",
    "        max_theta_sum_rate = max(theta_sum_rates)\n",
    "        max_id = theta_sum_rates.index(max_theta_sum_rate)\n",
    "\n",
    "        opt_rate_tuples.append(rate_tuples[max_id]) \n",
    "        opt_priors.append(priors[max_id])\n",
    "        R1_vals.append(R1_scores[max_id])\n",
    "        R2_vals.append(R2_scores[max_id])\n",
    "        \n",
    "    return R1_vals, R2_vals, opt_rate_tuples, opt_priors"
   ]
  },
  {
   "cell_type": "code",
   "execution_count": 18,
   "id": "0f7aaa83",
   "metadata": {},
   "outputs": [
    {
     "name": "stdout",
     "output_type": "stream",
     "text": [
      "CPU times: user 15.3 s, sys: 17.8 ms, total: 15.3 s\n",
      "Wall time: 15.3 s\n"
     ]
    }
   ],
   "source": [
    "%%time\n",
    "\n",
    "ea_R1_vals, ea_R2_vals, ea_opt_rate_tuples, ea_opt_priors = rate_region_inner_bound(\n",
    "    ea_rate_tuples, ea_priors_list, theta_scan=np.arange(0,1.001,0.001)\n",
    ")\n",
    "cl_R1_vals, cl_R2_vals, cl_opt_rate_tuples, cl_opt_priors = rate_region_inner_bound(\n",
    "    cl_rate_tuples, cl_priors_list, theta_scan=np.arange(0,1.001,0.001)\n",
    ")"
   ]
  },
  {
   "cell_type": "code",
   "execution_count": 19,
   "id": "21351d33",
   "metadata": {},
   "outputs": [
    {
     "name": "stdout",
     "output_type": "stream",
     "text": [
      "EA: extremal rate tuple :  [0.36774366 1.68490145 1.68634342]\n",
      "EA: prior_x1 :  [0.0, 0.0, 1.0]\n",
      "EA: prior_x2 :  [0.333, 0.333, 0.333]\n",
      "EA: extremal rate tuple :  [1.11715842 1.67569296 2.3233468 ]\n",
      "EA: prior_x1 :  [0.0, 0.333, 0.667]\n",
      "EA: prior_x2 :  [0.333, 0.333, 0.333]\n",
      "EA: extremal rate tuple :  [1.66004681 1.66004681 2.63183152]\n",
      "EA: prior_x1 :  [0.3333333333333333, 0.3333333333333333, 0.3333333333333333]\n",
      "EA: prior_x2 :  [0.3333333333333333, 0.3333333333333333, 0.3333333333333333]\n",
      "EA: extremal rate tuple :  [1.67603779 1.11839407 2.32335769]\n",
      "EA: prior_x1 :  [0.333, 0.333, 0.333]\n",
      "EA: prior_x2 :  [0.0, 0.333, 0.667]\n",
      "EA: extremal rate tuple :  [1.68635601 0.38948119 1.68779798]\n",
      "EA: prior_x1 :  [0.333, 0.333, 0.333]\n",
      "EA: prior_x2 :  [0.0, 0.0, 1.0]\n",
      "CL: extremal rate tuple :  [0.03500854 1.67670667 1.68519987]\n",
      "CL: prior_x1 :  [0.0, 0.0, 1.0]\n",
      "CL: prior_x2 :  [0.333, 0.333, 0.333]\n",
      "CL: extremal rate tuple :  [0.85710056 1.5990751  2.21678514]\n",
      "CL: prior_x1 :  [0.0, 0.333, 0.667]\n",
      "CL: prior_x2 :  [0.333, 0.333, 0.333]\n",
      "CL: extremal rate tuple :  [1.39103092 1.38794609 2.3008488 ]\n",
      "CL: prior_x1 :  [0.25, 0.25, 0.5]\n",
      "CL: prior_x2 :  [0.25, 0.25, 0.5]\n",
      "CL: extremal rate tuple :  [1.51101926 0.76523836 2.11772823]\n",
      "CL: prior_x1 :  [0.25, 0.25, 0.5]\n",
      "CL: prior_x2 :  [0.0, 0.25, 0.75]\n",
      "CL: extremal rate tuple :  [1.65900273e+00 1.12859799e-03 1.65910579e+00]\n",
      "CL: prior_x1 :  [0.25, 0.25, 0.5]\n",
      "CL: prior_x2 :  [0.0, 0.0, 1.0]\n",
      "CPU times: user 59.6 ms, sys: 5.92 ms, total: 65.5 ms\n",
      "Wall time: 61.8 ms\n"
     ]
    },
    {
     "data": {
      "text/plain": [
       "<matplotlib.legend.Legend at 0x7f968d25ad00>"
      ]
     },
     "execution_count": 19,
     "metadata": {},
     "output_type": "execute_result"
    },
    {
     "data": {
      "image/png": "[encoded data removed]",
      "text/plain": [
       "<Figure size 720x720 with 1 Axes>"
      ]
     },
     "metadata": {
      "needs_background": "light"
     },
     "output_type": "display_data"
    }
   ],
   "source": [
    "%%time\n",
    "\n",
    "plt.figure(figsize=(10,10))\n",
    "\n",
    "# ideal ea rate region uniform priors\n",
    "r1_vals, r2_vals = rate_region_vertices(ideal_ea_rate_tuple)  \n",
    "plt.plot(r1_vals, r2_vals,\"c.-\",linewidth=4, markersize=12, label=\"EA Ideal\")\n",
    "\n",
    "# perfect rate region uniform priors\n",
    "r1_vals, r2_vals = rate_region_vertices(perfect_rate_tuple)\n",
    "plt.plot(r1_vals, r2_vals,\"g*-\",label=\"Perfect MAC\", markersize=10)\n",
    "\n",
    "plt.plot(ea_R1_vals, ea_R2_vals, \"b-\", linewidth=2, label=\"EA Inner Bound\")\n",
    "\n",
    "ea_unique_rate_tuples = np.unique(ea_opt_rate_tuples, axis=0)\n",
    "for r_tuple in ea_unique_rate_tuples:\n",
    "    \n",
    "    print(\"EA: extremal rate tuple : \", r_tuple)\n",
    "    tuple_id = ea_rate_tuples.index(tuple(r_tuple))\n",
    "    priors = ea_priors_list[tuple_id]\n",
    "    \n",
    "    print(\"EA: prior_x1 : \", priors[0].tolist())\n",
    "    print(\"EA: prior_x2 : \", priors[1].tolist())\n",
    "    \n",
    "    r1_vals, r2_vals = rate_region_vertices(r_tuple)  \n",
    "    plt.plot(r1_vals, r2_vals,\"b--\")\n",
    "\n",
    "plt.plot(ea_R1_vals, ea_R2_vals, \"b-\", linewidth=2, label=\"EA Inner Bound\")\n",
    "     \n",
    "cl_unique_rate_tuples = np.unique(cl_opt_rate_tuples, axis=0)\n",
    "for r_tuple in cl_unique_rate_tuples:\n",
    "    \n",
    "    print(\"CL: extremal rate tuple : \", r_tuple)\n",
    "    tuple_id = cl_rate_tuples.index(tuple(r_tuple))\n",
    "    priors = cl_priors_list[tuple_id]\n",
    "    \n",
    "    print(\"CL: prior_x1 : \", priors[0].tolist())\n",
    "    print(\"CL: prior_x2 : \", priors[1].tolist())\n",
    "    \n",
    "    r1_vals, r2_vals = rate_region_vertices(r_tuple)  \n",
    "    plt.plot(r1_vals, r2_vals,\"r--\")\n",
    "\n",
    "plt.plot(cl_R1_vals, cl_R2_vals, \"r-\", linewidth=2, label=\"Classical Inner Bound\")\n",
    "plt.xlabel(\"Rate 1\", size=18)\n",
    "plt.ylabel(\"Rate 2\", size=18)\n",
    "plt.title(\"Rate Region Inner Bound for\\nFinger Printing MAC Game\\n\", size=22)\n",
    "\n",
    "\n",
    "plt.legend(loc=\"lower left\", fontsize=12)"
   ]
  },
  {
   "cell_type": "code",
   "execution_count": null,
   "id": "44b16696",
   "metadata": {},
   "outputs": [],
   "source": []
  }
 ],
 "metadata": {
  "@webio": {
   "lastCommId": null,
   "lastKernelId": null
  },
  "kernelspec": {
   "display_name": "Python 3 (ipykernel)",
   "language": "python",
   "name": "python3"
  },
  "language_info": {
   "codemirror_mode": {
    "name": "ipython",
    "version": 3
   },
   "file_extension": ".py",
   "mimetype": "text/x-python",
   "name": "python",
   "nbconvert_exporter": "python",
   "pygments_lexer": "ipython3",
   "version": "3.8.11"
  }
 },
 "nbformat": 4,
 "nbformat_minor": 5
}
