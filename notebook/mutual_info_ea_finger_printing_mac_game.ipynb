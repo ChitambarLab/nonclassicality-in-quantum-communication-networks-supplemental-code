{
 "cells": [
  {
   "cell_type": "markdown",
   "id": "c407be08",
   "metadata": {},
   "source": [
    "# VQO of Mutual Information in Finger Printing MAC Game\n",
    "\n",
    "Consider a two sender multiple access channel assisted by entanglement shared between the two senders.\n",
    "Given their local input $x_i\\in\\{0,1,2\\}$, each sender measures their side of the entangled state and sends (classically) the result to a MAC Game that referees a finger printing task between the two senders.\n",
    "The two senders win this game if their respective inputs, $x_1$ and $x_2$, match.\n",
    "The challenge is, however, that the two senders do not communicate and may only send 1-bit to the receiving MAC.\n",
    "That is, the complete input cannot be sent."
   ]
  },
  {
   "cell_type": "code",
   "execution_count": 1,
   "id": "d4588451",
   "metadata": {},
   "outputs": [],
   "source": [
    "from qnet_context import QNetOptimizer as QNopt\n",
    "from mac_context import *\n",
    "import pennylane as qml\n",
    "import pennylane.numpy as np\n",
    "import matplotlib.pyplot as plt"
   ]
  },
  {
   "cell_type": "markdown",
   "id": "6109430f",
   "metadata": {},
   "source": [
    "## Ansatz"
   ]
  },
  {
   "cell_type": "code",
   "execution_count": 2,
   "id": "20eb8777",
   "metadata": {},
   "outputs": [],
   "source": [
    "ea_prep_node = [\n",
    "    QNopt.PrepareNode(1, [0,1], QNopt.ghz_state, 0)\n",
    "]\n",
    "cl_prep_node = [\n",
    "    QNopt.PrepareNode(1, [0,1], lambda settings, wires: None, 0)\n",
    "]\n",
    "ry_meas_nodes = [\n",
    "    QNopt.MeasureNode(3, 2, [0], QNopt.local_RY, 1),\n",
    "    QNopt.MeasureNode(3, 2, [1], QNopt.local_RY, 1)\n",
    "]\n",
    "\n",
    "ea_ansatz = QNopt.NetworkAnsatz(ea_prep_node, ry_meas_nodes)\n",
    "cl_ansatz = QNopt.NetworkAnsatz(cl_prep_node, ry_meas_nodes)\n",
    "\n",
    "# uniform prior distribution\n",
    "uniform3 = np.ones(3)/3"
   ]
  },
  {
   "cell_type": "markdown",
   "id": "cf724175",
   "metadata": {},
   "source": [
    "## MAC Game Behaviors\n",
    "\n",
    "The Game behaviors are defined similarly to [Playing Games with MACs](https://arxiv.org/abs/1909.02479) (see Eq. 2).\n"
   ]
  },
  {
   "cell_type": "code",
   "execution_count": 3,
   "id": "433cd424",
   "metadata": {},
   "outputs": [],
   "source": [
    "def mac_game_behavior_fn(ansatz):\n",
    "    \"\"\"Constructs and ansatz-specific behavior function.\n",
    "    \n",
    "    The the function is called as `behavior(ansatz_settings, [prior_x1, prior_x2])`\n",
    "    with `prior_x1` and `prior_x2` being prior distibutions P(x1) and P(x2).\n",
    "    \n",
    "    The constructed behavior has form P(z|x1,x2,y1,y2) with a joint prior distribution\n",
    "    P(x1,x2,y1,y2) = P(x1)P(x2)P(y1,y2|x1,x2).\n",
    "    \"\"\"\n",
    "        \n",
    "    fp_behavior = QNopt.behavior_fn(ansatz)\n",
    "    \n",
    "    def behavior_fn(settings, priors):\n",
    "        \n",
    "        raw_behavior = fp_behavior(settings)\n",
    "        \n",
    "        prior_xy = np.kron(priors[0], priors[1])\n",
    "        \n",
    "        new_priors = (raw_behavior * prior_xy).T.reshape(36) \n",
    "                \n",
    "        P_win = []\n",
    "        P_mac_game = np.zeros((9,36))\n",
    "        i = 0\n",
    "        for x in range(3):\n",
    "            for y in range(3):\n",
    "                \n",
    "                win_col_ids = [0,3] if x == y else [1,2]\n",
    "                lose_col_ids = [1,2] if x == y else [0,3]\n",
    "                \n",
    "                block_xy = np.zeros((9,4)) \n",
    "                block_xy[3*x + y, win_col_ids] = [1,1]\n",
    "                block_xy[:,lose_col_ids] = np.ones((9,2))/9\n",
    "                \n",
    "                P_mac_game[:,4*i:4*(i + 1)] = block_xy\n",
    "                \n",
    "                i += 1\n",
    "                \n",
    "        return P_mac_game, new_priors\n",
    "    \n",
    "    return behavior_fn\n",
    "\n",
    "def big_mac_game_behavior_fn(ansatz):\n",
    "    \"\"\"Constructs and ansatz-specific behavior function.\n",
    "    \n",
    "    The the function is called as `behavior(ansatz_settings)`.\n",
    "    \n",
    "    The constructed behavior has form P(z|x1,x2)..\n",
    "    \"\"\"\n",
    "        \n",
    "    fp_behavior = QNopt.behavior_fn(ansatz, post_map=np.array([[1,0,0,1],[0,1,1,0]]))\n",
    "    fp_mat = np.array([[1,0,0,0,1,0,0,0,1],[0,1,1,1,0,1,1,1,0]])\n",
    "    \n",
    "    def behavior_fn(settings):\n",
    "        \n",
    "        raw_behavior = fp_behavior(settings)    \n",
    "               \n",
    "        P_win = []\n",
    "        for x in range(3):\n",
    "            for y in range(3):    \n",
    "                row_id = 0 if x == y else 1\n",
    "                P_win.append(raw_behavior[row_id, 3*x + y])         \n",
    "                \n",
    "        behavior = np.diag(P_win)\n",
    "                \n",
    "        for i in range(len(P_win)):\n",
    "            P_lose = 1 - P_win[i]\n",
    "            behavior[:,i] += P_lose * np.ones(9)/9\n",
    "                                    \n",
    "        return behavior       \n",
    "    \n",
    "    return behavior_fn"
   ]
  },
  {
   "cell_type": "markdown",
   "id": "e0508693",
   "metadata": {},
   "source": [
    "## MAC Game Rate Tuple\n",
    "\n",
    "$$\n",
    "\\Big\\{R_1 \\leq I(Z;X_1,Y_1|X_2,Y_2),\\quad R_2 \\leq I(Z;X_2,Y_2|X_1,Y_1),\\quad R_1 + R_2 \\leq I(Z;X_1,X_2,Y_1,Y_2)\\Big\\}\n",
    "$$"
   ]
  },
  {
   "cell_type": "code",
   "execution_count": 4,
   "id": "8da924df",
   "metadata": {},
   "outputs": [],
   "source": [
    "def mac_game_rate_tuple(behavior, priors):\n",
    "    \"\"\"Evaluates the rate tuple (R1, R2, R1 + R2) for a given mac game\n",
    "    behavior matrix with probabilities P(z|x1,x2,y1,y2) and priors P(x1,x2,y1,y2).\n",
    "        \n",
    "    Returns the rate tuple (R1, R2, R_sum) \n",
    "    \"\"\"\n",
    "    P_x1x2y1y2 = behavior * priors\n",
    "    \n",
    "    P_x1x2y1 = P_x1x2y1y2[:,0:36:2] + P_x1x2y1y2[:,1:36:2]\n",
    "    priors_x1x2y1 = priors[0:36:2] + priors[1:36:2]\n",
    "    \n",
    "    y1_ids = np.array([0,1,4,5,8,9,12,13,16,17,20,21,24,25,28,29,32,33])\n",
    "    P_x1x2y2 = P_x1x2y1y2[:, y1_ids] + P_x1x2y1y2[:,y1_ids+2]\n",
    "    priors_x1x2y2 = priors[y1_ids] + priors[y1_ids+2]\n",
    "    \n",
    "    x2_ids = np.array([0,1,6,7,12,13])\n",
    "    P_x1y1 = P_x1x2y1[:,x2_ids] + P_x1x2y1[:,x2_ids + 2] + P_x1x2y1[:,x2_ids + 4]\n",
    "    priors_x1y1 = priors_x1x2y1[x2_ids] + priors_x1x2y1[x2_ids + 2] + priors_x1x2y1[x2_ids + 4]\n",
    "    \n",
    "    x1_ids = np.array([0,1,2,3,4,5])\n",
    "    P_x2y2 = P_x1x2y2[:,x1_ids] + P_x1x2y2[:,x1_ids + 6] + P_x1x2y2[:,x1_ids + 12]\n",
    "    priors_x2y2 = priors_x1x2y2[x1_ids] + priors_x1x2y2[x1_ids + 6] + priors_x1x2y2[x1_ids + 12]\n",
    "    \n",
    "    H_in = QNopt.shannon_entropy(priors)\n",
    "    H_joint = QNopt.shannon_entropy((P_x1x2y1y2).T.reshape(9*36))\n",
    "    H_z = QNopt.shannon_entropy([np.sum(row) for row in (P_x1x2y1y2)])\n",
    "\n",
    "    mutual_info = H_in + H_z - H_joint\n",
    "    \n",
    "    H_x1y1 = QNopt.shannon_entropy(priors_x1y1)\n",
    "    H_x2y2 = QNopt.shannon_entropy(priors_x2y2)\n",
    "    H_zx1y1 = QNopt.shannon_entropy((P_x1y1).T.reshape(9*6))\n",
    "    H_zx2y2 = QNopt.shannon_entropy((P_x2y2).T.reshape(9*6))\n",
    "    \n",
    "    mutual_info_z_x1y1 = H_z + H_x1y1 - H_zx1y1\n",
    "    mutual_info_z_x2y2 = H_z + H_x2y2 - H_zx2y2\n",
    "        \n",
    "    return (mutual_info - mutual_info_z_x2y2, mutual_info - mutual_info_z_x1y1 , mutual_info)"
   ]
  },
  {
   "cell_type": "markdown",
   "id": "06360165",
   "metadata": {},
   "source": [
    "## Ideal Entanglement Assisted Rate Region for Uniform Priors"
   ]
  },
  {
   "cell_type": "code",
   "execution_count": 6,
   "id": "857ac0a5",
   "metadata": {},
   "outputs": [
    {
     "data": {
      "image/png": "[encoded data removed]",
      "text/plain": [
       "<Figure size 432x288 with 1 Axes>"
      ]
     },
     "metadata": {
      "needs_background": "light"
     },
     "output_type": "display_data"
    }
   ],
   "source": [
    "ea_mac_behavior = mac_game_behavior_fn(ea_ansatz)\n",
    "\n",
    "ideal_settings = [\n",
    "    [np.array([[]])],\n",
    "    [np.array([[0],[2*np.pi/3],[4*np.pi/3]]), np.array([[0],[2*np.pi/3],[4*np.pi/3]])]\n",
    "]\n",
    "\n",
    "priors = [uniform3, uniform3]\n",
    "P_ea_ideal, ideal_priors = ea_mac_behavior(ideal_settings, priors)\n",
    "\n",
    "ideal_ea_rate_tuple = mac_game_rate_tuple(P_ea_ideal, ideal_priors)\n",
    "\n",
    "r1_vals, r2_vals = rate_region_vertices(ideal_ea_rate_tuple)\n",
    "    \n",
    "plt.plot(r1_vals, r2_vals,\"b-\")\n",
    "plt.title(\"Ideal Entanglement Assisted\\nFinger Printing Game Rate Region\")\n",
    "plt.xlabel(\"Rate 1\")\n",
    "plt.ylabel(\"Rate 2\")\n",
    "plt.show()"
   ]
  },
  {
   "cell_type": "markdown",
   "id": "5618be94",
   "metadata": {},
   "source": [
    "## Perfect Winning Finger Printing Rate Region"
   ]
  },
  {
   "cell_type": "code",
   "execution_count": 7,
   "id": "f1a75a0f",
   "metadata": {},
   "outputs": [
    {
     "data": {
      "image/png": "[encoded data removed]",
      "text/plain": [
       "<Figure size 432x288 with 1 Axes>"
      ]
     },
     "metadata": {
      "needs_background": "light"
     },
     "output_type": "display_data"
    }
   ],
   "source": [
    "# perfect MAC Strategy for finger printing\n",
    "P_perfect_mac = np.array([\n",
    "    [1,0,0,1,0,0,0,0,0,0,0,0,0,0,0,0,0,0,0,0,0,0,0,0,0,0,0,0,0,0,0,0,0,0,0,0],\n",
    "    [0,0,0,0,0,1,1,0,0,0,0,0,0,0,0,0,0,0,0,0,0,0,0,0,0,0,0,0,0,0,0,0,0,0,0,0],\n",
    "    [0,0,0,0,0,0,0,0,0,1,1,0,0,0,0,0,0,0,0,0,0,0,0,0,0,0,0,0,0,0,0,0,0,0,0,0],\n",
    "    [0,0,0,0,0,0,0,0,0,0,0,0,0,1,1,0,0,0,0,0,0,0,0,0,0,0,0,0,0,0,0,0,0,0,0,0],\n",
    "    [0,0,0,0,0,0,0,0,0,0,0,0,0,0,0,0,1,0,0,1,0,0,0,0,0,0,0,0,0,0,0,0,0,0,0,0],\n",
    "    [0,0,0,0,0,0,0,0,0,0,0,0,0,0,0,0,0,0,0,0,0,1,1,0,0,0,0,0,0,0,0,0,0,0,0,0],\n",
    "    [0,0,0,0,0,0,0,0,0,0,0,0,0,0,0,0,0,0,0,0,0,0,0,0,0,1,1,0,0,0,0,0,0,0,0,0],\n",
    "    [0,0,0,0,0,0,0,0,0,0,0,0,0,0,0,0,0,0,0,0,0,0,0,0,0,0,0,0,0,1,1,0,0,0,0,0],\n",
    "    [0,0,0,0,0,0,0,0,0,0,0,0,0,0,0,0,0,0,0,0,0,0,0,0,0,0,0,0,0,0,0,0,1,0,0,1],\n",
    "])\n",
    "perfect_priors = np.array(\n",
    "    [1,0,0,1,0,1,1,0,0,1,1,0,0,1,1,0,1,0,0,1,0,1,1,0,0,1,1,0,0,1,1,0,1,0,0,1]\n",
    ")/18\n",
    "\n",
    "perfect_rate_tuple = mac_game_rate_tuple(P_perfect_mac, perfect_priors)\n",
    "\n",
    "r1_vals, r2_vals = rate_region_vertices(perfect_rate_tuple)\n",
    "    \n",
    "plt.plot(r1_vals, r2_vals,\"b-\")\n",
    "plt.title(\"Perfect Winning Finger Printing Rate Region\")\n",
    "plt.xlabel(\"Rate 1\")\n",
    "plt.ylabel(\"Rate 2\")\n",
    "plt.show()"
   ]
  },
  {
   "cell_type": "markdown",
   "id": "f63efff1",
   "metadata": {},
   "source": [
    "## Cost Function for Optimal Sum Rate"
   ]
  },
  {
   "cell_type": "code",
   "execution_count": 8,
   "id": "1db7e22a",
   "metadata": {},
   "outputs": [],
   "source": [
    "def mutual_info_finger_printing_cost_fn(ansatz, priors):\n",
    "    \n",
    "    probs_qnode = QNopt.joint_probs_qnode(ansatz)\n",
    "    \n",
    "    def cost_fn(ansatz_settings):\n",
    "        # optimize winning probability\n",
    "        P_Z_list = []\n",
    "        for x in range(3):\n",
    "            for y in range(3):\n",
    "                \n",
    "                settings = ansatz.qnode_settings(ansatz_settings, [0], [x, y]) # prep node is static\n",
    "                probs_xy = probs_qnode(settings)\n",
    "                                \n",
    "                prior = priors[0][x] * priors[1][y]   \n",
    "                win_ids = [0,3] if x == y else [1,2]\n",
    "                \n",
    "                P_win_xy = np.sum(probs_xy[win_ids]) * prior\n",
    "                             \n",
    "                P_Z_list.append(P_win_xy)\n",
    "        \n",
    "        # postprocess winning probablity into mutual information\n",
    "        P_lose = 1 - np.sum(P_Z_list)\n",
    "        \n",
    "        P_Z = P_lose * np.ones(9)/9 + np.array(P_Z_list)\n",
    "                \n",
    "        H_Z = QNopt.shannon_entropy(P_Z)\n",
    "                \n",
    "        mutual_info = H_Z - P_lose * np.log2(9)\n",
    "                        \n",
    "        return -(mutual_info)\n",
    "    \n",
    "    return cost_fn\n",
    "\n",
    "\n",
    "def scan_fp_rate_region(ansatz, prior_x1_samples, prior_x2_samples, **opt_kwargs):\n",
    "    \n",
    "    rate_tuples = []\n",
    "    opt_dicts = []\n",
    "    priors_list = []\n",
    "    for prior_x1 in prior_x1_samples:\n",
    "        for prior_x2 in prior_x2_samples:\n",
    "            print(\"prior_x1  = \", prior_x1)\n",
    "            print(\"prior_x2 = \", prior_x2)\n",
    "            \n",
    "            cost = mutual_info_finger_printing_cost_fn(ansatz, [prior_x1, prior_x2])\n",
    "\n",
    "            opt_dict = QNopt.gradient_descent(\n",
    "                cost,\n",
    "                ansatz.rand_scenario_settings(),\n",
    "                **opt_kwargs\n",
    "            )\n",
    "            \n",
    "            mac_behavior = mac_game_behavior_fn(ansatz)\n",
    "                   \n",
    "            P_mac, prior_mac = mac_behavior(\n",
    "                opt_dict[\"opt_settings\"],\n",
    "                [prior_x1, prior_x2]\n",
    "            )\n",
    "            rate_tuple = mac_game_rate_tuple(P_mac, prior_mac)\n",
    "            print(rate_tuple)\n",
    "        \n",
    "            opt_dicts.append(opt_dict)\n",
    "            rate_tuples.append(rate_tuple)\n",
    "            priors_list.append([prior_x1, prior_x2])\n",
    "                  \n",
    "    return rate_tuples, opt_dicts, priors_list"
   ]
  },
  {
   "cell_type": "markdown",
   "id": "f6b9a79c",
   "metadata": {},
   "source": [
    "## Entanglement-Assisted Data Collection"
   ]
  },
  {
   "cell_type": "code",
   "execution_count": 9,
   "id": "dc37aad2",
   "metadata": {},
   "outputs": [],
   "source": [
    "ea_rate_tuples = []\n",
    "ea_opt_dicts = []\n",
    "ea_priors_list = []"
   ]
  },
  {
   "cell_type": "markdown",
   "id": "fed26784",
   "metadata": {},
   "source": [
    "### EA: Uniform Priors"
   ]
  },
  {
   "cell_type": "code",
   "execution_count": 10,
   "id": "2f2e2a41",
   "metadata": {},
   "outputs": [
    {
     "name": "stdout",
     "output_type": "stream",
     "text": [
      "prior_x1  =  [0.33333333 0.33333333 0.33333333]\n",
      "prior_x2 =  [0.33333333 0.33333333 0.33333333]\n",
      "(1.503620166103838, 1.503619444410468, 2.3498213650728967)\n",
      "2.3498213650728967\n",
      "prior_x1  =  [0.33333333 0.33333333 0.33333333]\n",
      "prior_x2 =  [0.33333333 0.33333333 0.33333333]\n",
      "(1.6600468193795201, 1.6600468194737559, 2.6318315353432755)\n",
      "2.6318315353432764\n"
     ]
    }
   ],
   "source": [
    "opt_score = 0\n",
    "while opt_score < 2.6:\n",
    "    ea_rate_tuples_uni, ea_opt_dicts_uni, ea_priors_list_uni = scan_fp_rate_region(\n",
    "        ea_ansatz,\n",
    "        [uniform3],\n",
    "        [uniform3],\n",
    "        num_steps=50,\n",
    "        step_size=0.5,\n",
    "        sample_width=5,\n",
    "        verbose=False\n",
    "    )\n",
    "    \n",
    "    opt_score = ea_opt_dicts_uni[0][\"opt_score\"]\n",
    "    print(opt_score)\n",
    "    \n",
    "\n",
    "ea_rate_tuples.extend(ea_rate_tuples_uni)\n",
    "ea_opt_dicts.extend(ea_opt_dicts_uni)\n",
    "ea_priors_list.extend(ea_priors_list_uni)  "
   ]
  },
  {
   "cell_type": "markdown",
   "id": "4f5794bc",
   "metadata": {},
   "source": [
    "### EA: Prior Scan Step = 1/3 "
   ]
  },
  {
   "cell_type": "code",
   "execution_count": 11,
   "id": "6e275c97",
   "metadata": {},
   "outputs": [
    {
     "name": "stdout",
     "output_type": "stream",
     "text": [
      "prior_x1  =  [0. 0. 1.]\n",
      "prior_x2 =  [0. 0. 1.]\n",
      "(0.7445137576865402, 0.7445137576865402, 0.7445137576865406)\n",
      "prior_x1  =  [0. 0. 1.]\n",
      "prior_x2 =  [0.    0.333 0.667]\n",
      "(0.49469050769435396, 1.2629169985642248, 1.2629169985642248)\n",
      "prior_x1  =  [0. 0. 1.]\n",
      "prior_x2 =  [0.333 0.333 0.333]\n",
      "(0.3848393483526875, 1.6860353456525328, 1.6874773191053314)\n",
      "prior_x1  =  [0.    0.333 0.667]\n",
      "prior_x2 =  [0. 0. 1.]\n",
      "(1.2631493508083098, 0.4908025543710419, 1.2631493508083098)\n",
      "prior_x1  =  [0.    0.333 0.667]\n",
      "prior_x2 =  [0.    0.333 0.667]\n",
      "(1.1299234316786975, 1.1303816857842177, 1.9143566614013858)\n",
      "prior_x1  =  [0.    0.333 0.667]\n",
      "prior_x2 =  [0.333 0.333 0.333]\n",
      "(1.1180550534103046, 1.6759436939310492, 2.3233563888823108)\n",
      "prior_x1  =  [0.333 0.333 0.333]\n",
      "prior_x2 =  [0. 0. 1.]\n",
      "(1.6844707265735828, 0.36038962273321307, 1.6859127000263827)\n",
      "prior_x1  =  [0.333 0.333 0.333]\n",
      "prior_x2 =  [0.    0.333 0.667]\n",
      "(1.6760463785512512, 1.1184260667379684, 2.323357755641073)\n",
      "prior_x1  =  [0.333 0.333 0.333]\n",
      "prior_x2 =  [0.333 0.333 0.333]\n",
      "(1.656728390206677, 1.6567283902137184, 2.6294515746359455)\n",
      "CPU times: user 20.8 s, sys: 153 ms, total: 21 s\n",
      "Wall time: 21 s\n"
     ]
    }
   ],
   "source": [
    "%%time\n",
    "\n",
    "scan_range3 = np.unique([\n",
    "    np.around(np.sort(prior),decimals=3) for prior in priors_scan_range(3)\n",
    "], axis=0)\n",
    "\n",
    "ea_rate_tuples3, ea_opt_dicts3, ea_priors_list3 = scan_fp_rate_region(\n",
    "    ea_ansatz,\n",
    "    scan_range3,\n",
    "    scan_range3,\n",
    "    num_steps=50,\n",
    "    step_size=0.5,\n",
    "    sample_width=5,\n",
    "    verbose=False\n",
    ")\n",
    "\n",
    "ea_rate_tuples.extend(ea_rate_tuples3)\n",
    "ea_opt_dicts.extend(ea_opt_dicts3)\n",
    "ea_priors_list.extend(ea_priors_list3)"
   ]
  },
  {
   "cell_type": "markdown",
   "id": "30434a44",
   "metadata": {},
   "source": [
    "### EA: Prior Scan Step = 1/4"
   ]
  },
  {
   "cell_type": "code",
   "execution_count": 12,
   "id": "f7a360e6",
   "metadata": {},
   "outputs": [
    {
     "name": "stdout",
     "output_type": "stream",
     "text": [
      "prior_x1  =  [0. 0. 1.]\n",
      "prior_x2 =  [0. 0. 1.]\n",
      "(0.7445137576865397, 0.7445137576865397, 0.7445137576865406)\n",
      "prior_x1  =  [0. 0. 1.]\n",
      "prior_x2 =  [0.   0.25 0.75]\n",
      "(0.5492348240136069, 1.2170029993910458, 1.2170029993910463)\n",
      "prior_x1  =  [0. 0. 1.]\n",
      "prior_x2 =  [0.  0.5 0.5]\n",
      "(0.6034772215263127, 1.2721044722054393, 1.2721044722054389)\n",
      "prior_x1  =  [0. 0. 1.]\n",
      "prior_x2 =  [0.25 0.25 0.5 ]\n",
      "(0.3391105182620011, 1.6631698153427097, 1.6631698153427097)\n",
      "prior_x1  =  [0.   0.25 0.75]\n",
      "prior_x2 =  [0. 0. 1.]\n",
      "(1.216953599169143, 0.5495604091329525, 1.216953599169143)\n",
      "prior_x1  =  [0.   0.25 0.75]\n",
      "prior_x2 =  [0.   0.25 0.75]\n",
      "(1.09873257900187, 1.101401853268396, 1.7506529430950653)\n",
      "prior_x1  =  [0.   0.25 0.75]\n",
      "prior_x2 =  [0.  0.5 0.5]\n",
      "(1.0643945229427327, 1.1731924828796756, 1.8853719079519244)\n",
      "prior_x1  =  [0.   0.25 0.75]\n",
      "prior_x2 =  [0.25 0.25 0.5 ]\n",
      "(1.0103202644218823, 1.5910296018471608, 2.1826482504166087)\n",
      "prior_x1  =  [0.  0.5 0.5]\n",
      "prior_x2 =  [0. 0. 1.]\n",
      "(1.2721182618398217, 0.6034827366726452, 1.2721182618398217)\n",
      "prior_x1  =  [0.  0.5 0.5]\n",
      "prior_x2 =  [0.   0.25 0.75]\n",
      "(1.1747695907265108, 1.053489521446978, 1.8834405389875655)\n",
      "prior_x1  =  [0.  0.5 0.5]\n",
      "prior_x2 =  [0.  0.5 0.5]\n",
      "(1.126014685509177, 1.125985492518545, 2.032897028846506)\n",
      "prior_x1  =  [0.  0.5 0.5]\n",
      "prior_x2 =  [0.25 0.25 0.5 ]\n",
      "(1.1901416346637532, 1.5840860803075976, 2.3258593709070166)\n",
      "prior_x1  =  [0.25 0.25 0.5 ]\n",
      "prior_x2 =  [0. 0. 1.]\n",
      "(1.661650339411699, 0.3582014872612662, 1.661650339411699)\n",
      "prior_x1  =  [0.25 0.25 0.5 ]\n",
      "prior_x2 =  [0.   0.25 0.75]\n",
      "(1.5844745439996673, 0.9932195630297254, 2.1820111026490983)\n",
      "prior_x1  =  [0.25 0.25 0.5 ]\n",
      "prior_x2 =  [0.  0.5 0.5]\n",
      "(1.5841360078681004, 1.1902292060684179, 2.3258719548526248)\n",
      "prior_x1  =  [0.25 0.25 0.5 ]\n",
      "prior_x2 =  [0.25 0.25 0.5 ]\n",
      "(1.4589296921973673, 1.458999956414866, 2.2388360323011156)\n",
      "CPU times: user 36.6 s, sys: 241 ms, total: 36.8 s\n",
      "Wall time: 36.8 s\n"
     ]
    }
   ],
   "source": [
    "%%time\n",
    "\n",
    "scan_range4 = np.unique([np.around(np.sort(prior),decimals=3) for prior in priors_scan_range(4)], axis=0)\n",
    "\n",
    "ea_rate_tuples4, ea_opt_dicts4, ea_priors_list4 = scan_fp_rate_region(\n",
    "    ea_ansatz,\n",
    "    scan_range4,\n",
    "    scan_range4,\n",
    "    num_steps=50,\n",
    "    step_size=0.5,\n",
    "    sample_width=5,\n",
    "    verbose=False\n",
    ")\n",
    "\n",
    "ea_rate_tuples.extend(ea_rate_tuples4)\n",
    "ea_opt_dicts.extend(ea_opt_dicts4)\n",
    "ea_priors_list.extend(ea_priors_list4)"
   ]
  },
  {
   "cell_type": "markdown",
   "id": "2b2bc86b",
   "metadata": {},
   "source": [
    "## Classical Data Collection"
   ]
  },
  {
   "cell_type": "code",
   "execution_count": 13,
   "id": "775528c4",
   "metadata": {},
   "outputs": [],
   "source": [
    "cl_rate_tuples = []\n",
    "cl_opt_dicts = []\n",
    "cl_priors_list = []"
   ]
  },
  {
   "cell_type": "markdown",
   "id": "67969e20",
   "metadata": {},
   "source": [
    "## CL: Uniform Priors"
   ]
  },
  {
   "cell_type": "code",
   "execution_count": 14,
   "id": "171cca15",
   "metadata": {},
   "outputs": [
    {
     "name": "stdout",
     "output_type": "stream",
     "text": [
      "prior_x1  =  [0.33333333 0.33333333 0.33333333]\n",
      "prior_x2 =  [0.33333333 0.33333333 0.33333333]\n",
      "(1.3561298451238701, 1.3852945039578737, 2.2947318525278195)\n",
      "2.294731852527818\n",
      "CPU times: user 2.09 s, sys: 16.6 ms, total: 2.11 s\n",
      "Wall time: 2.11 s\n"
     ]
    }
   ],
   "source": [
    "%%time\n",
    "\n",
    "opt_score = 0\n",
    "while opt_score < 2.29:\n",
    "    cl_rate_tuples_uni, cl_opt_dicts_uni, cl_priors_list_uni = scan_fp_rate_region(\n",
    "        cl_ansatz,\n",
    "        [uniform3],\n",
    "        [uniform3],\n",
    "        num_steps=50,\n",
    "        step_size=0.5,\n",
    "        sample_width=5,\n",
    "        verbose=False\n",
    "    )\n",
    "    \n",
    "    opt_score = cl_opt_dicts_uni[0][\"opt_score\"]\n",
    "    print(opt_score)\n",
    "\n",
    "cl_rate_tuples.extend(cl_rate_tuples_uni)\n",
    "cl_opt_dicts.extend(cl_opt_dicts_uni)\n",
    "cl_priors_list.extend(cl_priors_list_uni)"
   ]
  },
  {
   "cell_type": "markdown",
   "id": "1c36ec88",
   "metadata": {},
   "source": [
    "## CL: Priorrs Scan = 1/3"
   ]
  },
  {
   "cell_type": "code",
   "execution_count": 15,
   "id": "00bc4078",
   "metadata": {},
   "outputs": [
    {
     "name": "stdout",
     "output_type": "stream",
     "text": [
      "prior_x1  =  [0. 0. 1.]\n",
      "prior_x2 =  [0. 0. 1.]\n",
      "(0.34527791325257207, 0.7414635702697217, 0.7445137576865406)\n",
      "prior_x1  =  [0. 0. 1.]\n",
      "prior_x2 =  [0.    0.333 0.667]\n",
      "(0.5928065621288452, 0.8606246736164582, 1.1974390555960284)\n",
      "prior_x1  =  [0. 0. 1.]\n",
      "prior_x2 =  [0.333 0.333 0.333]\n",
      "(0.16286983275733036, 1.6295233961376487, 1.6834952527904714)\n",
      "prior_x1  =  [0.    0.333 0.667]\n",
      "prior_x2 =  [0. 0. 1.]\n",
      "(1.2309610173156589, 0.1858722898574361, 1.2583434498065578)\n",
      "prior_x1  =  [0.    0.333 0.667]\n",
      "prior_x2 =  [0.    0.333 0.667]\n",
      "(1.1338630225317612, 0.8568192415035156, 1.9002176832893918)\n",
      "prior_x1  =  [0.    0.333 0.667]\n",
      "prior_x2 =  [0.333 0.333 0.333]\n",
      "(0.8807338648473544, 1.5690161944335332, 2.2073336271903266)\n",
      "prior_x1  =  [0.333 0.333 0.333]\n",
      "prior_x2 =  [0. 0. 1.]\n",
      "(1.6409234137116897, 0.1447027644799097, 1.685670549214466)\n",
      "prior_x1  =  [0.333 0.333 0.333]\n",
      "prior_x2 =  [0.    0.333 0.667]\n",
      "(1.4481252363232207, 0.9617331906189404, 2.1832530635900884)\n",
      "prior_x1  =  [0.333 0.333 0.333]\n",
      "prior_x2 =  [0.333 0.333 0.333]\n",
      "(1.3832827722662477, 1.365910430861669, 2.2914860423895664)\n",
      "CPU times: user 18.9 s, sys: 127 ms, total: 19 s\n",
      "Wall time: 19 s\n"
     ]
    }
   ],
   "source": [
    "%%time\n",
    "\n",
    "scan_range3 = np.unique([\n",
    "    np.around(np.sort(prior),decimals=3) for prior in priors_scan_range(3)\n",
    "], axis=0)\n",
    "\n",
    "cl_rate_tuples3, cl_opt_dicts3, cl_priors_list3 = scan_fp_rate_region(\n",
    "    cl_ansatz,\n",
    "    scan_range3,\n",
    "    scan_range3,\n",
    "    num_steps=50,\n",
    "    step_size=0.5,\n",
    "    sample_width=5,\n",
    "    verbose=False\n",
    ")\n",
    "\n",
    "cl_rate_tuples.extend(cl_rate_tuples3)\n",
    "cl_opt_dicts.extend(cl_opt_dicts3)\n",
    "cl_priors_list.extend(cl_priors_list3)"
   ]
  },
  {
   "cell_type": "markdown",
   "id": "1de0cba6",
   "metadata": {},
   "source": [
    "## CL: Priors Scan Step = 1/4"
   ]
  },
  {
   "cell_type": "code",
   "execution_count": 16,
   "id": "e40eafb2",
   "metadata": {},
   "outputs": [
    {
     "name": "stdout",
     "output_type": "stream",
     "text": [
      "prior_x1  =  [0. 0. 1.]\n",
      "prior_x2 =  [0. 0. 1.]\n",
      "(0.19035130334961892, 0.7433837393615468, 0.7445137576865402)\n",
      "prior_x1  =  [0. 0. 1.]\n",
      "prior_x2 =  [0.   0.25 0.75]\n",
      "(0.02235415468698232, 1.2149286491710751, 1.216334184985079)\n",
      "prior_x1  =  [0. 0. 1.]\n",
      "prior_x2 =  [0.  0.5 0.5]\n",
      "(0.44670462972518354, 1.1090000746722426, 1.270055021931162)\n",
      "prior_x1  =  [0. 0. 1.]\n",
      "prior_x2 =  [0.25 0.25 0.5 ]\n",
      "(0.17996858641204083, 1.60155693917714, 1.6493798726219642)\n",
      "prior_x1  =  [0.   0.25 0.75]\n",
      "prior_x2 =  [0. 0. 1.]\n",
      "(1.2055361923602077, 0.09275224030919471, 1.2133167989601055)\n",
      "prior_x1  =  [0.   0.25 0.75]\n",
      "prior_x2 =  [0.   0.25 0.75]\n",
      "(0.8463472002755084, 1.0522540962251847, 1.722744186048366)\n",
      "prior_x1  =  [0.   0.25 0.75]\n",
      "prior_x2 =  [0.  0.5 0.5]\n",
      "(1.0517489781072031, 0.9444859438133699, 1.8838010882573224)\n",
      "prior_x1  =  [0.   0.25 0.75]\n",
      "prior_x2 =  [0.25 0.25 0.5 ]\n",
      "(0.7681415902536033, 1.505193591552592, 2.117247507189271)\n",
      "prior_x1  =  [0.  0.5 0.5]\n",
      "prior_x2 =  [0. 0. 1.]\n",
      "(1.2020029973291653, 0.3038346473987401, 1.2718419879134646)\n",
      "prior_x1  =  [0.  0.5 0.5]\n",
      "prior_x2 =  [0.   0.25 0.75]\n",
      "(0.9585989988012678, 1.0437726786466395, 1.882808346471153)\n",
      "prior_x1  =  [0.  0.5 0.5]\n",
      "prior_x2 =  [0.  0.5 0.5]\n",
      "(1.0087909863825413, 1.1050645045536358, 2.033711211808521)\n",
      "prior_x1  =  [0.  0.5 0.5]\n",
      "prior_x2 =  [0.25 0.25 0.5 ]\n",
      "(0.9638446544527195, 1.4750971841103961, 2.2099073875662416)\n",
      "prior_x1  =  [0.25 0.25 0.5 ]\n",
      "prior_x2 =  [0. 0. 1.]\n",
      "(1.662606918818382, 0.0005377897114779984, 1.6626530160188189)\n",
      "prior_x1  =  [0.25 0.25 0.5 ]\n",
      "prior_x2 =  [0.   0.25 0.75]\n",
      "(1.4712476809458268, 0.8304922689708847, 2.046930130594634)\n",
      "prior_x1  =  [0.25 0.25 0.5 ]\n",
      "prior_x2 =  [0.  0.5 0.5]\n",
      "(1.508629910366353, 0.9373797966237221, 2.2298057774025297)\n",
      "prior_x1  =  [0.25 0.25 0.5 ]\n",
      "prior_x2 =  [0.25 0.25 0.5 ]\n",
      "(1.3910912376008429, 1.3915893801081105, 2.365452392604627)\n",
      "CPU times: user 33.6 s, sys: 231 ms, total: 33.8 s\n",
      "Wall time: 33.7 s\n"
     ]
    }
   ],
   "source": [
    "%%time\n",
    "\n",
    "scan_range4 = np.unique([np.around(np.sort(prior),decimals=3) for prior in priors_scan_range(4)], axis=0)\n",
    "\n",
    "cl_rate_tuples4, cl_opt_dicts4, cl_priors_list4 = scan_fp_rate_region(\n",
    "    cl_ansatz,\n",
    "    scan_range4,\n",
    "    scan_range4,\n",
    "    num_steps=50,\n",
    "    step_size=0.5,\n",
    "    sample_width=5,\n",
    "    verbose=False\n",
    ")\n",
    "\n",
    "cl_rate_tuples.extend(cl_rate_tuples4)\n",
    "cl_opt_dicts.extend(cl_opt_dicts4)\n",
    "cl_priors_list.extend(cl_priors_list4)"
   ]
  },
  {
   "cell_type": "markdown",
   "id": "cfe82afe",
   "metadata": {},
   "source": [
    "## Plotting Rate Region Inner Bounds\n",
    "\n",
    "To evaluate a inner bound on the rate region, we apply similar methods to https://ieeexplore.ieee.org/abstract/document/5590317.\n",
    "\n",
    "We have collected optimized rate regions for a wide range of priors, it remains to take their convex hull and trace out their boundary. This is done with a (linear approximation?) method outlined in the above article."
   ]
  },
  {
   "cell_type": "code",
   "execution_count": 17,
   "id": "5d0b61a4",
   "metadata": {},
   "outputs": [],
   "source": [
    "def rate_region_inner_bound(rate_tuples, priors, theta_scan=np.arange(0,1.001,0.01)):\n",
    "    \n",
    "    R1_vals = []\n",
    "    R2_vals = []\n",
    "    opt_rate_tuples = []\n",
    "    opt_priors = []\n",
    "\n",
    "    for theta in theta_scan:\n",
    "\n",
    "        theta_sum_rates = []\n",
    "        R1_scores = []\n",
    "        R2_scores = []\n",
    "        for r_tuple in rate_tuples:\n",
    "            biased_rate = theta*r_tuple[0] + (1-theta)*r_tuple[1]\n",
    "            R1 = r_tuple[0]\n",
    "            R2 = r_tuple[1]\n",
    "\n",
    "            if r_tuple[0] + r_tuple[1] > r_tuple[2]:\n",
    "                if theta*r_tuple[0] + (1-theta)*(r_tuple[2]-r_tuple[0]) >= theta*(r_tuple[2]-r_tuple[1]) + (1-theta)*r_tuple[1]:\n",
    "                    biased_rate = theta*r_tuple[0] + (1-theta)*(r_tuple[2]-r_tuple[0])\n",
    "                    R2 = r_tuple[2]-r_tuple[0]\n",
    "                else:\n",
    "                    biased_rate = theta*(r_tuple[2]-r_tuple[1]) + (1-theta)*r_tuple[1]\n",
    "                    R1 = r_tuple[2]-r_tuple[1]\n",
    "\n",
    "            theta_sum_rates.append(biased_rate)\n",
    "            R1_scores.append(R1)\n",
    "            R2_scores.append(R2)\n",
    "\n",
    "        max_theta_sum_rate = max(theta_sum_rates)\n",
    "        max_id = theta_sum_rates.index(max_theta_sum_rate)\n",
    "\n",
    "        opt_rate_tuples.append(rate_tuples[max_id]) \n",
    "        opt_priors.append(priors[max_id])\n",
    "        R1_vals.append(R1_scores[max_id])\n",
    "        R2_vals.append(R2_scores[max_id])\n",
    "        \n",
    "    return R1_vals, R2_vals, opt_rate_tuples, opt_priors"
   ]
  },
  {
   "cell_type": "code",
   "execution_count": 18,
   "id": "6ef52324",
   "metadata": {},
   "outputs": [
    {
     "name": "stdout",
     "output_type": "stream",
     "text": [
      "CPU times: user 15 s, sys: 30 ms, total: 15.1 s\n",
      "Wall time: 15.1 s\n"
     ]
    }
   ],
   "source": [
    "%%time\n",
    "\n",
    "ea_R1_vals, ea_R2_vals, ea_opt_rate_tuples, ea_opt_priors = rate_region_inner_bound(\n",
    "    ea_rate_tuples, ea_priors_list, theta_scan=np.arange(0,1.001,0.001)\n",
    ")\n",
    "cl_R1_vals, cl_R2_vals, cl_opt_rate_tuples, cl_opt_priors = rate_region_inner_bound(\n",
    "    cl_rate_tuples, ea_priors_list, theta_scan=np.arange(0,1.001,0.001)\n",
    ")"
   ]
  },
  {
   "cell_type": "code",
   "execution_count": 19,
   "id": "876a2491",
   "metadata": {},
   "outputs": [
    {
     "name": "stdout",
     "output_type": "stream",
     "text": [
      "EA: extremal rate tuple :  [0.38483935 1.68603535 1.68747732]\n",
      "EA: prior_x1 :  [0.0, 0.0, 1.0]\n",
      "EA: prior_x2 :  [0.333, 0.333, 0.333]\n",
      "EA: extremal rate tuple :  [1.11805505 1.67594369 2.32335639]\n",
      "EA: prior_x1 :  [0.0, 0.333, 0.667]\n",
      "EA: prior_x2 :  [0.333, 0.333, 0.333]\n",
      "EA: extremal rate tuple :  [1.66004682 1.66004682 2.63183154]\n",
      "EA: prior_x1 :  [0.3333333333333333, 0.3333333333333333, 0.3333333333333333]\n",
      "EA: prior_x2 :  [0.3333333333333333, 0.3333333333333333, 0.3333333333333333]\n",
      "EA: extremal rate tuple :  [1.67604638 1.11842607 2.32335776]\n",
      "EA: prior_x1 :  [0.333, 0.333, 0.333]\n",
      "EA: prior_x2 :  [0.0, 0.333, 0.667]\n",
      "EA: extremal rate tuple :  [1.68447073 0.36038962 1.6859127 ]\n",
      "EA: prior_x1 :  [0.333, 0.333, 0.333]\n",
      "EA: prior_x2 :  [0.0, 0.0, 1.0]\n",
      "CL: extremal rate tuple :  [0.16286983 1.6295234  1.68349525]\n",
      "CL: prior_x1 :  [0.0, 0.0, 1.0]\n",
      "CL: prior_x2 :  [0.333, 0.333, 0.333]\n",
      "CL: extremal rate tuple :  [0.88073386 1.56901619 2.20733363]\n",
      "CL: prior_x1 :  [0.0, 0.333, 0.667]\n",
      "CL: prior_x2 :  [0.333, 0.333, 0.333]\n",
      "CL: extremal rate tuple :  [1.39109124 1.39158938 2.36545239]\n",
      "CL: prior_x1 :  [0.25, 0.25, 0.5]\n",
      "CL: prior_x2 :  [0.25, 0.25, 0.5]\n",
      "CL: extremal rate tuple :  [1.50862991 0.9373798  2.22980578]\n",
      "CL: prior_x1 :  [0.25, 0.25, 0.5]\n",
      "CL: prior_x2 :  [0.0, 0.5, 0.5]\n",
      "CL: extremal rate tuple :  [1.66260692e+00 5.37789711e-04 1.66265302e+00]\n",
      "CL: prior_x1 :  [0.25, 0.25, 0.5]\n",
      "CL: prior_x2 :  [0.0, 0.0, 1.0]\n",
      "CPU times: user 57.7 ms, sys: 5.53 ms, total: 63.3 ms\n",
      "Wall time: 60.4 ms\n"
     ]
    },
    {
     "data": {
      "text/plain": [
       "<matplotlib.legend.Legend at 0x7fa3a6db4040>"
      ]
     },
     "execution_count": 19,
     "metadata": {},
     "output_type": "execute_result"
    },
    {
     "data": {
      "image/png": "[encoded data removed]",
      "text/plain": [
       "<Figure size 720x720 with 1 Axes>"
      ]
     },
     "metadata": {
      "needs_background": "light"
     },
     "output_type": "display_data"
    }
   ],
   "source": [
    "%%time\n",
    "\n",
    "plt.figure(figsize=(10,10))\n",
    "\n",
    "# ideal ea rate region uniform priors\n",
    "r1_vals, r2_vals = rate_region_vertices(ideal_ea_rate_tuple)  \n",
    "plt.plot(r1_vals, r2_vals,\"c.-\",linewidth=4, markersize=12, label=\"EA Ideal\")\n",
    "\n",
    "# perfect rate region uniform priors\n",
    "r1_vals, r2_vals = rate_region_vertices(perfect_rate_tuple)\n",
    "plt.plot(r1_vals, r2_vals,\"g*-\",label=\"Perfect MAC\", markersize=10)\n",
    "\n",
    "\n",
    "ea_unique_rate_tuples = np.unique(ea_opt_rate_tuples, axis=0)\n",
    "for r_tuple in ea_unique_rate_tuples:\n",
    "    \n",
    "    print(\"EA: extremal rate tuple : \", r_tuple)\n",
    "    tuple_id = ea_rate_tuples.index(tuple(r_tuple))\n",
    "    priors = ea_priors_list[tuple_id]\n",
    "    \n",
    "    print(\"EA: prior_x1 : \", priors[0].tolist())\n",
    "    print(\"EA: prior_x2 : \", priors[1].tolist())\n",
    "    \n",
    "    r1_vals, r2_vals = rate_region_vertices(r_tuple)  \n",
    "    plt.plot(r1_vals, r2_vals,\"b--\")\n",
    "\n",
    "plt.plot(ea_R1_vals, ea_R2_vals, \"b-\", linewidth=2, label=\"EA Inner Bound\")\n",
    "     \n",
    "cl_unique_rate_tuples = np.unique(cl_opt_rate_tuples, axis=0)\n",
    "for r_tuple in cl_unique_rate_tuples:\n",
    "    \n",
    "    print(\"CL: extremal rate tuple : \", r_tuple)\n",
    "    tuple_id = cl_rate_tuples.index(tuple(r_tuple))\n",
    "    priors = cl_priors_list[tuple_id]\n",
    "    \n",
    "    print(\"CL: prior_x1 : \", priors[0].tolist())\n",
    "    print(\"CL: prior_x2 : \", priors[1].tolist())\n",
    "    \n",
    "    r1_vals, r2_vals = rate_region_vertices(r_tuple)  \n",
    "    plt.plot(r1_vals, r2_vals,\"r--\")\n",
    "\n",
    "plt.plot(cl_R1_vals, cl_R2_vals, \"r-\", linewidth=2, label=\"Classical Inner Bound\")\n",
    "plt.xlabel(\"Rate 1\", size=18)\n",
    "plt.ylabel(\"Rate 2\", size=18)\n",
    "plt.title(\"Rate Region Inner Bound for\\nFinger Printing MAC Game\\n\", size=22)\n",
    "\n",
    "\n",
    "plt.legend(loc=\"lower left\", fontsize=12)"
   ]
  },
  {
   "cell_type": "code",
   "execution_count": null,
   "id": "5bd82356",
   "metadata": {},
   "outputs": [],
   "source": []
  }
 ],
 "metadata": {
  "@webio": {
   "lastCommId": null,
   "lastKernelId": null
  },
  "kernelspec": {
   "display_name": "Python 3 (ipykernel)",
   "language": "python",
   "name": "python3"
  },
  "language_info": {
   "codemirror_mode": {
    "name": "ipython",
    "version": 3
   },
   "file_extension": ".py",
   "mimetype": "text/x-python",
   "name": "python",
   "nbconvert_exporter": "python",
   "pygments_lexer": "ipython3",
   "version": "3.8.11"
  }
 },
 "nbformat": 4,
 "nbformat_minor": 5
}
