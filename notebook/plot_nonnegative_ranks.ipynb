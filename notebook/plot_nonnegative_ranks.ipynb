{
 "cells": [
  {
   "cell_type": "code",
   "execution_count": 1,
   "metadata": {},
   "outputs": [],
   "source": [
    "import json\n",
    "import numpy as np\n",
    "from os import listdir\n",
    "from os.path import isfile, join\n",
    "import re\n",
    "from matplotlib import pyplot as plt\n",
    "import math"
   ]
  },
  {
   "cell_type": "code",
   "execution_count": 2,
   "metadata": {},
   "outputs": [],
   "source": [
    "def get_data_files(path, regex):\n",
    "    \"\"\"Retrieves all data files that match the ``regex`` in the\n",
    "    directory specified by ``path``.\n",
    "    \"\"\"\n",
    "    return [\n",
    "        join(path, f)\n",
    "        for f in listdir(path)\n",
    "        if (f.endswith(\".json\") and isfile(join(path, f)) and bool(re.match(regex, f)))\n",
    "    ]\n",
    "\n",
    "def read_json(filename):\n",
    "    \"\"\"Reads data from a JSON file.\n",
    "    :param filename: The path to the JSON file. Note this string must contain the ``.json`` extension.\n",
    "    :type filename: string\n",
    "    :returns: The dictionary read from the JSON file.\n",
    "    :rtype: dict\n",
    "    \"\"\"\n",
    "\n",
    "    with open(filename) as file:\n",
    "        data_dict = json.load(file)\n",
    "\n",
    "    return data_dict\n",
    "\n",
    "def get_nonnegative_rank_data(path, n_range):\n",
    "\n",
    "    data_dicts = []\n",
    "    arg_mins = []\n",
    "    for i in n_range:\n",
    "        regex = r\"^n_\" + str(i) + r\"_.*\"\n",
    "        \n",
    "        files = get_data_files(path, regex)\n",
    "        nmf_dicts = [read_json(file) for file in files]\n",
    "        data_dicts += [nmf_dicts]\n",
    "        arg_mins += [np.argmin([data_dict[\"k\"] for data_dict in nmf_dicts])]\n",
    "\n",
    "    return data_dicts, arg_mins"
   ]
  },
  {
   "cell_type": "code",
   "execution_count": 3,
   "metadata": {},
   "outputs": [],
   "source": [
    "data_path = \"../data/nonnegative_rank/qubit_planar_symmetric/\"\n",
    "n_range = range(2, 38)\n",
    "\n",
    "nmf_data_dicts, nmf_arg_mins = get_nonnegative_rank_data(data_path, n_range)\n",
    "\n",
    "min_nmf_data_dicts = [\n",
    "    nmf_data_dicts[i][nmf_arg_mins[i]]\n",
    "    for i in range(len(nmf_data_dicts))\n",
    "]\n",
    "\n",
    "min_nmf_k = [data_dict[\"k\"] for data_dict in min_nmf_data_dicts]"
   ]
  },
  {
   "cell_type": "code",
   "execution_count": 4,
   "metadata": {},
   "outputs": [],
   "source": [
    "def lb_k(n):\n",
    "    k = 1\n",
    "    while n > math.comb(k, int(np.floor(k/2))):\n",
    "        k += 1\n",
    "    \n",
    "    return k\n",
    "\n",
    "k_lbs = [lb_k(n) for n in n_range]"
   ]
  },
  {
   "cell_type": "code",
   "execution_count": 5,
   "metadata": {},
   "outputs": [
    {
     "ename": "NameError",
     "evalue": "name 'label' is not defined",
     "output_type": "error",
     "traceback": [
      "\u001b[0;31m---------------------------------------------------------------------------\u001b[0m",
      "\u001b[0;31mNameError\u001b[0m                                 Traceback (most recent call last)",
      "Cell \u001b[0;32mIn[5], line 5\u001b[0m\n\u001b[1;32m      3\u001b[0m \u001b[39m# plt.step(n_range, [np.ceil(np.log2(n)) for n in n_range], linestyle=\":\")\u001b[39;00m\n\u001b[1;32m      4\u001b[0m plt\u001b[39m.\u001b[39mstep(n_range, k_lbs, linestyle\u001b[39m=\u001b[39m\u001b[39m\"\u001b[39m\u001b[39m-.\u001b[39m\u001b[39m\"\u001b[39m, label\u001b[39m=\u001b[39m\u001b[39mr\u001b[39m\u001b[39m\"\u001b[39m\u001b[39mTheoretical Lower Bound $\u001b[39m\u001b[39m\\\u001b[39m\u001b[39mmin\u001b[39m\u001b[39m\\\u001b[39m\u001b[39m{\u001b[39m\u001b[39mk\u001b[39m\u001b[39m\\\u001b[39m\u001b[39m;|\u001b[39m\u001b[39m\\\u001b[39m\u001b[39m; n\u001b[39m\u001b[39m\\\u001b[39m\u001b[39mleq \u001b[39m\u001b[39m\\\u001b[39m\u001b[39mbinom\u001b[39m\u001b[39m{k}\u001b[39;00m\u001b[39m{\u001b[39m\u001b[39m\\\u001b[39m\u001b[39mlfloor k/2 \u001b[39m\u001b[39m\\\u001b[39m\u001b[39mrfloor}\u001b[39m\u001b[39m\\\u001b[39m\u001b[39m}$\u001b[39m\u001b[39m\"\u001b[39m)\n\u001b[0;32m----> 5\u001b[0m plt\u001b[39m.\u001b[39mstep(n_range, n_range, label)\n\u001b[1;32m      6\u001b[0m plt\u001b[39m.\u001b[39mstep(n_range, [np\u001b[39m.\u001b[39mfloor(n\u001b[39m/\u001b[39m\u001b[39m2\u001b[39m) \u001b[39mfor\u001b[39;00m n \u001b[39min\u001b[39;00m n_range], linestyle\u001b[39m=\u001b[39m\u001b[39m\"\u001b[39m\u001b[39m--\u001b[39m\u001b[39m\"\u001b[39m)\n\u001b[1;32m      8\u001b[0m plt\u001b[39m.\u001b[39mplot(n_range, min_nmf_k, linestyle\u001b[39m=\u001b[39m\u001b[39m\"\u001b[39m\u001b[39m:\u001b[39m\u001b[39m\"\u001b[39m, marker\u001b[39m=\u001b[39m\u001b[39m\"\u001b[39m\u001b[39m.\u001b[39m\u001b[39m\"\u001b[39m, label\u001b[39m=\u001b[39m\u001b[39mr\u001b[39m\u001b[39m\"\u001b[39m\u001b[39mNumerically Approximate $\u001b[39m\u001b[39m\\\u001b[39m\u001b[39mrm\u001b[39m\u001b[39m{Rank}\u001b[39;00m\u001b[39m_+(\u001b[39m\u001b[39m\\\u001b[39m\u001b[39mmathbf\u001b[39m\u001b[39m{P}\u001b[39;00m\u001b[39m)$\u001b[39m\u001b[39m\"\u001b[39m)\n",
      "\u001b[0;31mNameError\u001b[0m: name 'label' is not defined"
     ]
    },
    {
     "data": {
      "image/png": "[encoded data removed]",
      "text/plain": [
       "<Figure size 640x480 with 1 Axes>"
      ]
     },
     "metadata": {},
     "output_type": "display_data"
    }
   ],
   "source": [
    "plt.grid()\n",
    "\n",
    "# plt.step(n_range, [np.ceil(np.log2(n)) for n in n_range], linestyle=\":\")\n",
    "plt.step(n_range, k_lbs, linestyle=\"-.\", label=r\"Theoretical Lower Bound $\\min\\{k\\;|\\; n\\leq \\binom{k}{\\lfloor k/2 \\rfloor}\\}$\")\n",
    "plt.step(n_range, n_range, label)\n",
    "plt.step(n_range, [np.floor(n/2) for n in n_range], linestyle=\"--\")\n",
    "\n",
    "plt.plot(n_range, min_nmf_k, linestyle=\":\", marker=\".\", label=r\"Numerically Approximate $\\rm{Rank}_+(\\mathbf{P})$\")\n",
    "\n",
    "plt.legend()\n",
    "\n"
   ]
  },
  {
   "cell_type": "code",
   "execution_count": null,
   "metadata": {},
   "outputs": [],
   "source": []
  },
  {
   "cell_type": "code",
   "execution_count": null,
   "metadata": {},
   "outputs": [],
   "source": []
  }
 ],
 "metadata": {
  "kernelspec": {
   "display_name": "qnetvo-dev",
   "language": "python",
   "name": "python3"
  },
  "language_info": {
   "codemirror_mode": {
    "name": "ipython",
    "version": 3
   },
   "file_extension": ".py",
   "mimetype": "text/x-python",
   "name": "python",
   "nbconvert_exporter": "python",
   "pygments_lexer": "ipython3",
   "version": "3.8.16"
  },
  "orig_nbformat": 4
 },
 "nbformat": 4,
 "nbformat_minor": 2
}
